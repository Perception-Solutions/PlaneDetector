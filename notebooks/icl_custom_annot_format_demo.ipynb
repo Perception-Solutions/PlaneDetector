{
 "cells": [
  {
   "cell_type": "code",
   "execution_count": 10,
   "metadata": {
    "pycharm": {
     "name": "#%%\n"
    }
   },
   "outputs": [],
   "source": [
    "import os\n",
    "import cv2\n",
    "import numpy as np\n",
    "import open3d as o3d"
   ]
  },
  {
   "cell_type": "code",
   "execution_count": 11,
   "metadata": {
    "pycharm": {
     "name": "#%%\n"
    }
   },
   "outputs": [],
   "source": [
    "annot_folder_path = \"C:\\\\Users\\\\dimaj\\\\Desktop\\\\full_icl\\\\output\"\n",
    "depth_folder_path = \"C:\\\\Users\\\\dimaj\\\\Desktop\\\\living_room_traj0_frei_png.tar\\\\living_room_traj0_frei_png\\\\depth\""
   ]
  },
  {
   "cell_type": "code",
   "execution_count": 12,
   "metadata": {
    "pycharm": {
     "name": "#%%\n"
    }
   },
   "outputs": [],
   "source": [
    "class CameraIntrinsics:\n",
    "    def __init__(self, width, height, fx, fy, cx, cy, factor):\n",
    "        self.width = width\n",
    "        self.height = height\n",
    "        self.fx = fx\n",
    "        self.fy = fy\n",
    "        self.cx = cx\n",
    "        self.cy = cy\n",
    "        self.factor = factor\n",
    "        self.open3dIntrinsics = o3d.camera.PinholeCameraIntrinsic(\n",
    "            width=width,\n",
    "            height=height,\n",
    "            fx=fx,  # X-axis focal length\n",
    "            fy=fy,  # Y-axis focal length\n",
    "            cx=cx,  # X-axis principle point\n",
    "            cy=cy  # Y-axis principle point\n",
    "        )"
   ]
  },
  {
   "cell_type": "code",
   "execution_count": 13,
   "metadata": {
    "pycharm": {
     "name": "#%%\n"
    }
   },
   "outputs": [],
   "source": [
    "def normalize_color_arr(color_arr):\n",
    "    return color_arr / 255"
   ]
  },
  {
   "cell_type": "code",
   "execution_count": 14,
   "metadata": {
    "pycharm": {
     "name": "#%%\n"
    }
   },
   "outputs": [],
   "source": [
    "def depth_to_pcd_custom(depth_image, camera_intrinsics: CameraIntrinsics, initial_pcd_transform):\n",
    "    points = np.zeros((camera_intrinsics.width * camera_intrinsics.height, 3))\n",
    "\n",
    "    column_indices = np.tile(np.arange(camera_intrinsics.width), (camera_intrinsics.height, 1)).flatten()\n",
    "    row_indices = np.transpose(np.tile(np.arange(camera_intrinsics.height), (camera_intrinsics.width, 1))).flatten()\n",
    "\n",
    "    points[:, 2] = depth_image.flatten() / camera_intrinsics.factor\n",
    "    points[:, 0] = (column_indices - camera_intrinsics.cx) * points[:, 2] / camera_intrinsics.fx\n",
    "    points[:, 1] = (row_indices - camera_intrinsics.cy) * points[:, 2] / camera_intrinsics.fy\n",
    "\n",
    "    pcd = o3d.geometry.PointCloud()\n",
    "    pcd.points = o3d.utility.Vector3dVector(points)\n",
    "    pcd.transform(initial_pcd_transform)\n",
    "\n",
    "    return pcd\n"
   ]
  },
  {
   "cell_type": "code",
   "execution_count": 15,
   "metadata": {
    "pycharm": {
     "name": "#%%\n"
    }
   },
   "outputs": [],
   "source": [
    "class TumIclLoader:\n",
    "  def __init__(self):\n",
    "    self.config = self.provide_config()\n",
    "\n",
    "    depth_path = depth_folder_path\n",
    "\n",
    "    depth_filenames = self.provide_filenames(depth_path)\n",
    "\n",
    "    self.depth_images = [os.path.join(depth_path, filename) for filename in depth_filenames]\n",
    "\n",
    "  def read_depth_image(self, frame_num) -> np.array:\n",
    "      depth_frame_path = self.depth_images[frame_num]\n",
    "      return cv2.imread(depth_frame_path, cv2.IMREAD_ANYDEPTH)\n",
    "\n",
    "  def read_pcd(self, frame_num):\n",
    "      depth_image = self.read_depth_image(frame_num)\n",
    "      cam_intrinsics = self.config.get_cam_intrinsic(depth_image.shape)\n",
    "      initial_pcd_transform = self.config.get_initial_pcd_transform()\n",
    "\n",
    "      pcd = depth_to_pcd_custom(depth_image, cam_intrinsics, initial_pcd_transform)\n",
    "\n",
    "      return pcd\n",
    "\n",
    "  def provide_filenames(self, depth_path):\n",
    "      depth_filenames = os.listdir(depth_path)\n",
    "      normalized_depth_filenames = TumIclLoader.__normalize_filenames(depth_filenames)\n",
    "      normalized_depth_filenames.sort()\n",
    "\n",
    "      return normalized_depth_filenames\n",
    "\n",
    "  def provide_config(self):\n",
    "      return self.TumIclCameraConfig()\n",
    "\n",
    "  @staticmethod\n",
    "  def __normalize_filenames(filenames):\n",
    "      max_filename_len = max([len(filename[:-4]) for filename in filenames])\n",
    "      normalized_filenames = [\n",
    "          \"0\" * (max_filename_len - len(filename[:-4])) + filename for filename in filenames\n",
    "      ]\n",
    "\n",
    "      return normalized_filenames\n",
    "\n",
    "  class TumIclCameraConfig:\n",
    "      def get_cam_intrinsic(self, image_shape=(480, 640)) -> CameraIntrinsics:\n",
    "          # Taken from https://www.doc.ic.ac.uk/~ahanda/VaFRIC/codes.html\n",
    "          return CameraIntrinsics(\n",
    "              width=image_shape[1],\n",
    "              height=image_shape[0],\n",
    "              fx=481.20,  # X-axis focal length\n",
    "              fy=-480.00,  # Y-axis focal length\n",
    "              cx=319.50,  # X-axis principle point\n",
    "              cy=239.50,  # Y-axis principle point\n",
    "              factor=5000  # for the 16-bit PNG files\n",
    "          )\n",
    "\n",
    "      def get_initial_pcd_transform(self):\n",
    "          return [[-1, 0, 0, 0], [0, -1, 0, 0], [0, 0, -1, 0], [0, 0, 0, 1]]"
   ]
  },
  {
   "cell_type": "code",
   "execution_count": 16,
   "metadata": {
    "pycharm": {
     "name": "#%%\n"
    }
   },
   "outputs": [],
   "source": [
    "class DiAnnotation:\n",
    "    def __init__(self):\n",
    "        self.path = annot_folder_path\n",
    "        annotations = [os.path.join(self.path, filename) for filename in os.listdir(self.path)]\n",
    "        self.annotations = sorted(annotations, key=lambda x: int(x.split(\"\\\\\")[-1].split(\".\")[0]))\n",
    "\n",
    "    def annotate(self, pcd: o3d.geometry.PointCloud, frame_num: int) -> o3d.geometry.PointCloud:\n",
    "        annotation = self.annotations[frame_num]\n",
    "        annotation_rgb = cv2.imread(annotation)\n",
    "        colors = normalize_color_arr(annotation_rgb.reshape((annotation_rgb.shape[0] * annotation_rgb.shape[1], 3)))\n",
    "\n",
    "        pcd.colors = o3d.utility.Vector3dVector(colors)\n",
    "\n",
    "        return pcd"
   ]
  },
  {
   "cell_type": "code",
   "execution_count": null,
   "metadata": {
    "pycharm": {
     "name": "#%%\n"
    }
   },
   "outputs": [],
   "source": [
    "loader = TumIclLoader()\n",
    "frame_num = 0\n",
    "pcd = loader.read_pcd(frame_num)\n",
    "annot = DiAnnotation()\n",
    "res_pcd = annot.annotate(pcd, frame_num)\n",
    "o3d.visualization.draw_geometries([res_pcd])\n"
   ]
  }
 ],
 "metadata": {
  "kernelspec": {
   "display_name": "Python 3 (ipykernel)",
   "language": "python",
   "name": "python3"
  },
  "language_info": {
   "codemirror_mode": {
    "name": "ipython",
    "version": 3
   },
   "file_extension": ".py",
   "mimetype": "text/x-python",
   "name": "python",
   "nbconvert_exporter": "python",
   "pygments_lexer": "ipython3",
   "version": "3.8.6"
  }
 },
 "nbformat": 4,
 "nbformat_minor": 1
}