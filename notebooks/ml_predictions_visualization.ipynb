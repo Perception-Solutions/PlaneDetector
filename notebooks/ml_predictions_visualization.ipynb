{
 "cells": [
  {
   "cell_type": "code",
   "execution_count": 2,
   "id": "d2cb37a8",
   "metadata": {
    "pycharm": {
     "name": "#%%\n"
    }
   },
   "outputs": [],
   "source": [
    "import numpy as np\n",
    "import open3d as o3d\n",
    "import os\n",
    "import matplotlib.pyplot as plt"
   ]
  },
  {
   "cell_type": "code",
   "execution_count": null,
   "id": "177dfdf4",
   "metadata": {
    "pycharm": {
     "name": "#%%\n"
    }
   },
   "outputs": [],
   "source": [
    "!tar -xvf predictions.tar.gz"
   ]
  },
  {
   "cell_type": "code",
   "execution_count": 17,
   "id": "161c35a6",
   "metadata": {
    "pycharm": {
     "name": "#%%\n"
    }
   },
   "outputs": [],
   "source": [
    "scene_paths = ['predictions/' + name for name in os.listdir('predictions') if 'scene' in name]\n",
    "label_paths = [name.replace('scene-', 'label-') for name in scene_paths]"
   ]
  },
  {
   "cell_type": "code",
   "execution_count": 18,
   "id": "09ad9b57",
   "metadata": {
    "pycharm": {
     "name": "#%%\n"
    }
   },
   "outputs": [],
   "source": [
    "def visualize_labels(pcd, labels):\n",
    "    geometries = []\n",
    "    points = np.asarray(pcd.points)\n",
    "    N_planes = int(np.max(labels) + 1)\n",
    "    \n",
    "    cmap = plt.cm.get_cmap('gist_ncar')\n",
    "    \n",
    "    for i in range(N_planes):\n",
    "        pcd = o3d.geometry.PointCloud()\n",
    "        pcd.points = o3d.utility.Vector3dVector(points[np.where(labels == i)])\n",
    "        if i == 0:\n",
    "            pcd.paint_uniform_color([0.5, 0.5, 0.5])\n",
    "        else:\n",
    "            pcd.paint_uniform_color(cmap(i / N_planes)[:3])\n",
    "        geometries.append(pcd)\n",
    "\n",
    "    o3d.visualization.draw_geometries(geometries)"
   ]
  },
  {
   "cell_type": "markdown",
   "id": "59728921",
   "metadata": {
    "pycharm": {
     "name": "#%% md\n"
    }
   },
   "source": [
    "# Pick random scene"
   ]
  },
  {
   "cell_type": "code",
   "execution_count": 19,
   "id": "17d04a7c",
   "metadata": {
    "pycharm": {
     "name": "#%%\n"
    }
   },
   "outputs": [],
   "source": [
    "scene_number = np.random.randint(0, len(scene_paths))"
   ]
  },
  {
   "cell_type": "code",
   "execution_count": 28,
   "id": "ac6ab3b0",
   "metadata": {
    "pycharm": {
     "name": "#%%\n"
    }
   },
   "outputs": [],
   "source": [
    "scene = np.load(scene_paths[scene_number])[:, :3]\n",
    "labels = np.load(label_paths[scene_number])[0]"
   ]
  },
  {
   "cell_type": "code",
   "execution_count": 30,
   "id": "ef066899",
   "metadata": {
    "pycharm": {
     "name": "#%%\n"
    }
   },
   "outputs": [],
   "source": [
    "point_cloud = o3d.geometry.PointCloud()\n",
    "point_cloud.points = o3d.utility.Vector3dVector(scene)"
   ]
  },
  {
   "cell_type": "code",
   "execution_count": 34,
   "id": "bddf4ba0",
   "metadata": {
    "pycharm": {
     "name": "#%%\n"
    }
   },
   "outputs": [],
   "source": [
    "visualize_labels(point_cloud, labels)"
   ]
  },
  {
   "cell_type": "code",
   "execution_count": null,
   "id": "e7f5d4a9",
   "metadata": {
    "pycharm": {
     "name": "#%%\n"
    }
   },
   "outputs": [],
   "source": []
  }
 ],
 "metadata": {
  "kernelspec": {
   "display_name": "Python 3 (ipykernel)",
   "language": "python",
   "name": "python3"
  },
  "language_info": {
   "codemirror_mode": {
    "name": "ipython",
    "version": 3
   },
   "file_extension": ".py",
   "mimetype": "text/x-python",
   "name": "python",
   "nbconvert_exporter": "python",
   "pygments_lexer": "ipython3",
   "version": "3.7.9"
  }
 },
 "nbformat": 4,
 "nbformat_minor": 5
}