{
 "cells": [
  {
   "cell_type": "code",
   "execution_count": null,
   "metadata": {
    "collapsed": true,
    "pycharm": {
     "name": "#%%\n"
    }
   },
   "outputs": [],
   "source": [
    "import numpy as np"
   ]
  },
  {
   "cell_type": "code",
   "execution_count": null,
   "metadata": {
    "pycharm": {
     "name": "#%%\n"
    }
   },
   "outputs": [],
   "source": [
    "\n",
    "class LZW:\n",
    "    @staticmethod\n",
    "    def compress(uncompressed: str) -> list:\n",
    "        dictionary = {}\n",
    "        word = \"\"\n",
    "        result = []\n",
    "        dict_size = 256\n",
    "\n",
    "        for i in range(dict_size):\n",
    "            dictionary[str(chr(i))] = i\n",
    "\n",
    "        for index in range(len(uncompressed)):\n",
    "            current_char = str(uncompressed[index])\n",
    "            word_and_symbol = word + current_char\n",
    "\n",
    "            if word_and_symbol in dictionary:\n",
    "                word = word_and_symbol\n",
    "            else:\n",
    "                try:\n",
    "                    result.append(dictionary[word])\n",
    "                except:\n",
    "                    print(index)\n",
    "                    print(word)\n",
    "                    print(\"-------------\")\n",
    "                dictionary[word_and_symbol] = dict_size\n",
    "                dict_size += 1\n",
    "                word = str(current_char)\n",
    "\n",
    "        if word != \"\":\n",
    "            result.append(dictionary[word])\n",
    "\n",
    "        return result\n",
    "\n",
    "    @staticmethod\n",
    "    def decompress(compressed: list) -> str:\n",
    "        dictionary = {}\n",
    "        dict_size = 256\n",
    "\n",
    "        for i in range(dict_size):\n",
    "            dictionary[i] = str(chr(i))\n",
    "\n",
    "        word = str(chr(compressed[0]))\n",
    "        result = word\n",
    "\n",
    "        for i in range(1, len(compressed)):\n",
    "            temp = compressed[i]\n",
    "\n",
    "            if temp in dictionary:\n",
    "                entry = dictionary[temp]\n",
    "            else:\n",
    "                if temp == dict_size:\n",
    "                    entry = word + str(word[0])\n",
    "                else:\n",
    "                    return None\n",
    "\n",
    "            result += entry\n",
    "            dictionary[dict_size] = word + str(entry[0])\n",
    "            dict_size += 1\n",
    "            word = entry\n",
    "\n",
    "        return result\n"
   ]
  },
  {
   "cell_type": "code",
   "execution_count": null,
   "metadata": {
    "pycharm": {
     "name": "#%%\n"
    }
   },
   "outputs": [],
   "source": [
    "class FIC:\n",
    "    @staticmethod\n",
    "    def compress(input_list_of_integers: list) -> list:\n",
    "        result = []\n",
    "        for number in input_list_of_integers:\n",
    "            if number < (1 << 7):\n",
    "                result.append((number).to_bytes(1, byteorder=\"little\"))\n",
    "            elif number < (1 << 14):\n",
    "                result.append(((number & 0x7F) | 0x80).to_bytes(1, byteorder=\"little\"))\n",
    "                result.append((number >> 7).to_bytes(1, byteorder=\"little\"))\n",
    "            elif number < (1 << 21):\n",
    "                result.append(((number & 0x7F) | 0x80).to_bytes(1, byteorder=\"little\"))\n",
    "                result.append((((number >> 7) & 0x7F) | 0x80).to_bytes(\n",
    "                    1, byteorder=\"little\"\n",
    "                ))\n",
    "                result.append((number >> 14).to_bytes(1, byteorder=\"little\"))\n",
    "            elif number < (1 << 28):\n",
    "                result.append(((number & 0x7F) | 0x80).to_bytes(1, byteorder=\"little\"))\n",
    "                result.append((((number >> 7) & 0x7F) | 0x80)).to_bytes(\n",
    "                    1, byteorder=\"little\"\n",
    "                )\n",
    "                result.append((((number >> 14) & 0x7F) | 0x80).to_bytes(\n",
    "                    1, byteorder=\"little\"\n",
    "                ))\n",
    "                result.append((number >> 21).to_bytes(1, byteorder=\"little\"))\n",
    "            else:\n",
    "                result.append(((number & 0x7F) | 0x80).to_bytes(1, byteorder=\"little\"))\n",
    "                result.append((((number >> 7) & 0x7F) | 0x80).to_bytes(\n",
    "                    1, byteorder=\"little\"\n",
    "                ))\n",
    "                result.append((((number >> 14) & 0x7F) | 0x80).to_bytes(\n",
    "                    1, byteorder=\"little\"\n",
    "                ))\n",
    "                result.append((((number >> 21) & 0x7F) | 0x80).to_bytes(\n",
    "                    1, byteorder=\"little\"\n",
    "                ))\n",
    "                result.append((number >> 28).to_bytes(1, byteorder=\"little\"))\n",
    "\n",
    "        return result\n",
    "\n",
    "    @staticmethod\n",
    "    def decompress(input_byte_array: list) -> list:\n",
    "        result = []\n",
    "        position = 0\n",
    "\n",
    "        while len(input_byte_array) > position:\n",
    "            byte_to_int = int.from_bytes(\n",
    "                input_byte_array[position:position + 1], signed=True, byteorder=\"little\"\n",
    "            )\n",
    "            position += 1\n",
    "            temp_int = byte_to_int & 0x7F\n",
    "            if byte_to_int >= 0:\n",
    "                result.append(temp_int)\n",
    "                continue\n",
    "            byte_to_int = int.from_bytes(\n",
    "                input_byte_array[position:position + 1], signed=True, byteorder=\"little\"\n",
    "            )\n",
    "            position += 1\n",
    "            temp_int |= (byte_to_int & 0x7F) << 7\n",
    "            if byte_to_int >= 0:\n",
    "                result.append(temp_int)\n",
    "                continue\n",
    "            byte_to_int = int.from_bytes(\n",
    "                input_byte_array[position:position + 1], signed=True, byteorder=\"little\"\n",
    "            )\n",
    "            position += 1\n",
    "            temp_int |= (byte_to_int & 0x7F) << 14\n",
    "            if byte_to_int >= 0:\n",
    "                result.append(temp_int)\n",
    "                continue\n",
    "            byte_to_int = int.from_bytes(\n",
    "                input_byte_array[position:position + 1], signed=True, byteorder=\"little\"\n",
    "            )\n",
    "            position += 1\n",
    "            temp_int |= (byte_to_int & 0x7F) << 21\n",
    "            if byte_to_int >= 0:\n",
    "                result.append(temp_int)\n",
    "                continue\n",
    "            byte_to_int = int.from_bytes(\n",
    "                input_byte_array[position:position + 1], signed=True, byteorder=\"little\"\n",
    "            )\n",
    "            position += 1\n",
    "            temp_int |= byte_to_int << 28\n",
    "            result.append(temp_int)\n",
    "\n",
    "        return result\n"
   ]
  },
  {
   "cell_type": "code",
   "execution_count": null,
   "metadata": {
    "pycharm": {
     "name": "#%%\n"
    }
   },
   "outputs": [],
   "source": [
    " def load_labels(path) -> np.array:\n",
    "        with open(path, \"rb\") as label_file:\n",
    "            data = bytearray(label_file.read())\n",
    "            labels_string = LZW.decompress(FIC.decompress(data))\n",
    "            labels_string = labels_string[1:-1]  # skip []\n",
    "            return np.asarray(list(map(lambda x: int(x), labels_string.split(\",\"))), dtype=int)"
   ]
  },
  {
   "cell_type": "code",
   "execution_count": 13,
   "metadata": {
    "pycharm": {
     "name": "#%%\n"
    }
   },
   "outputs": [],
   "source": [
    "path_to_annot = \"C:\\\\Users\\\\dimaj\\\\Desktop\\\\kitti\\\\test_150_250_20cm.pcd.labels\"\n",
    "labels = load_labels(path_to_annot)\n",
    "np.savetxt(\"labels.csv\", labels, fmt='%i', newline=\",\")"
   ]
  },
  {
   "cell_type": "code",
   "execution_count": null,
   "metadata": {
    "pycharm": {
     "name": "#%%\n"
    }
   },
   "outputs": [],
   "source": []
  }
 ],
 "metadata": {
  "kernelspec": {
   "display_name": "Python 3 (ipykernel)",
   "language": "python",
   "name": "python3"
  },
  "language_info": {
   "codemirror_mode": {
    "name": "ipython",
    "version": 3
   },
   "file_extension": ".py",
   "mimetype": "text/x-python",
   "name": "python",
   "nbconvert_exporter": "python",
   "pygments_lexer": "ipython3",
   "version": "3.8.6"
  }
 },
 "nbformat": 4,
 "nbformat_minor": 1
}