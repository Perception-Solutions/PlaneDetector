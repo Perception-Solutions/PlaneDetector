{
 "cells": [
  {
   "cell_type": "code",
   "execution_count": 36,
   "id": "e9e4fd56-4dc4-4b30-829a-6ede2fe2a473",
   "metadata": {
    "pycharm": {
     "name": "#%%\n"
    }
   },
   "outputs": [],
   "source": [
    "import numpy as np\n",
    "import open3d as o3d\n",
    "import os\n",
    "import numpy as np\n",
    "from tqdm import tqdm"
   ]
  },
  {
   "cell_type": "code",
   "execution_count": 37,
   "id": "1d85a979-284f-4863-82ac-5831589dc043",
   "metadata": {
    "pycharm": {
     "name": "#%%\n"
    }
   },
   "outputs": [],
   "source": [
    "class LZW:\n",
    "    @staticmethod\n",
    "    def compress(uncompressed: str) -> list:\n",
    "        dictionary = {}\n",
    "        word = \"\"\n",
    "        result = []\n",
    "        dict_size = 256\n",
    "\n",
    "        for i in range(dict_size):\n",
    "            dictionary[str(chr(i))] = i\n",
    "\n",
    "        for index in range(len(uncompressed)):\n",
    "            current_char = str(uncompressed[index])\n",
    "            word_and_symbol = word + current_char\n",
    "\n",
    "            if word_and_symbol in dictionary:\n",
    "                word = word_and_symbol\n",
    "            else:\n",
    "                try:\n",
    "                    result.append(dictionary[word])\n",
    "                except:\n",
    "                    print(index)\n",
    "                    print(word)\n",
    "                    print(\"-------------\")\n",
    "                dictionary[word_and_symbol] = dict_size\n",
    "                dict_size += 1\n",
    "                word = str(current_char)\n",
    "\n",
    "        if word != \"\":\n",
    "            result.append(dictionary[word])\n",
    "\n",
    "        return result\n",
    "\n",
    "    @staticmethod\n",
    "    def decompress(compressed: list) -> str:\n",
    "        dictionary = {}\n",
    "        dict_size = 256\n",
    "\n",
    "        for i in range(dict_size):\n",
    "            dictionary[i] = str(chr(i))\n",
    "\n",
    "        word = str(chr(compressed[0]))\n",
    "        result = word\n",
    "\n",
    "        for i in range(1, len(compressed)):\n",
    "            temp = compressed[i]\n",
    "\n",
    "            if temp in dictionary:\n",
    "                entry = dictionary[temp]\n",
    "            else:\n",
    "                if temp == dict_size:\n",
    "                    entry = word + str(word[0])\n",
    "                else:\n",
    "                    return None\n",
    "\n",
    "            result += entry\n",
    "            dictionary[dict_size] = word + str(entry[0])\n",
    "            dict_size += 1\n",
    "            word = entry\n",
    "\n",
    "        return result"
   ]
  },
  {
   "cell_type": "code",
   "execution_count": 38,
   "id": "74f47101-71a0-4035-aee7-10e5bce31846",
   "metadata": {
    "pycharm": {
     "name": "#%%\n"
    }
   },
   "outputs": [],
   "source": [
    "class FIC:\n",
    "    @staticmethod\n",
    "    def compress(input_list_of_integers: list) -> list:\n",
    "        result = []\n",
    "        for number in input_list_of_integers:\n",
    "            if number < (1 << 7):\n",
    "                result.append((number).to_bytes(1, byteorder=\"little\"))\n",
    "            elif number < (1 << 14):\n",
    "                result.append(((number & 0x7F) | 0x80).to_bytes(1, byteorder=\"little\"))\n",
    "                result.append((number >> 7).to_bytes(1, byteorder=\"little\"))\n",
    "            elif number < (1 << 21):\n",
    "                result.append(((number & 0x7F) | 0x80).to_bytes(1, byteorder=\"little\"))\n",
    "                result.append((((number >> 7) & 0x7F) | 0x80).to_bytes(\n",
    "                    1, byteorder=\"little\"\n",
    "                ))\n",
    "                result.append((number >> 14).to_bytes(1, byteorder=\"little\"))\n",
    "            elif number < (1 << 28):\n",
    "                result.append(((number & 0x7F) | 0x80).to_bytes(1, byteorder=\"little\"))\n",
    "                result.append((((number >> 7) & 0x7F) | 0x80)).to_bytes(\n",
    "                    1, byteorder=\"little\"\n",
    "                )\n",
    "                result.append((((number >> 14) & 0x7F) | 0x80).to_bytes(\n",
    "                    1, byteorder=\"little\"\n",
    "                ))\n",
    "                result.append((number >> 21).to_bytes(1, byteorder=\"little\"))\n",
    "            else:\n",
    "                result.append(((number & 0x7F) | 0x80).to_bytes(1, byteorder=\"little\"))\n",
    "                result.append((((number >> 7) & 0x7F) | 0x80).to_bytes(\n",
    "                    1, byteorder=\"little\"\n",
    "                ))\n",
    "                result.append((((number >> 14) & 0x7F) | 0x80).to_bytes(\n",
    "                    1, byteorder=\"little\"\n",
    "                ))\n",
    "                result.append((((number >> 21) & 0x7F) | 0x80).to_bytes(\n",
    "                    1, byteorder=\"little\"\n",
    "                ))\n",
    "                result.append((number >> 28).to_bytes(1, byteorder=\"little\"))\n",
    "\n",
    "        return result\n",
    "\n",
    "    @staticmethod\n",
    "    def decompress(input_byte_array: list) -> list:\n",
    "        result = []\n",
    "        position = 0\n",
    "\n",
    "        while len(input_byte_array) > position:\n",
    "            byte_to_int = int.from_bytes(\n",
    "                input_byte_array[position:position + 1], signed=True, byteorder=\"little\"\n",
    "            )\n",
    "            position += 1\n",
    "            temp_int = byte_to_int & 0x7F\n",
    "            if byte_to_int >= 0:\n",
    "                result.append(temp_int)\n",
    "                continue\n",
    "            byte_to_int = int.from_bytes(\n",
    "                input_byte_array[position:position + 1], signed=True, byteorder=\"little\"\n",
    "            )\n",
    "            position += 1\n",
    "            temp_int |= (byte_to_int & 0x7F) << 7\n",
    "            if byte_to_int >= 0:\n",
    "                result.append(temp_int)\n",
    "                continue\n",
    "            byte_to_int = int.from_bytes(\n",
    "                input_byte_array[position:position + 1], signed=True, byteorder=\"little\"\n",
    "            )\n",
    "            position += 1\n",
    "            temp_int |= (byte_to_int & 0x7F) << 14\n",
    "            if byte_to_int >= 0:\n",
    "                result.append(temp_int)\n",
    "                continue\n",
    "            byte_to_int = int.from_bytes(\n",
    "                input_byte_array[position:position + 1], signed=True, byteorder=\"little\"\n",
    "            )\n",
    "            position += 1\n",
    "            temp_int |= (byte_to_int & 0x7F) << 21\n",
    "            if byte_to_int >= 0:\n",
    "                result.append(temp_int)\n",
    "                continue\n",
    "            byte_to_int = int.from_bytes(\n",
    "                input_byte_array[position:position + 1], signed=True, byteorder=\"little\"\n",
    "            )\n",
    "            position += 1\n",
    "            temp_int |= byte_to_int << 28\n",
    "            result.append(temp_int)\n",
    "\n",
    "        return result\n"
   ]
  },
  {
   "cell_type": "code",
   "execution_count": 39,
   "id": "9037455b-872b-4219-add8-023e6dc1cbfc",
   "metadata": {
    "pycharm": {
     "name": "#%%\n"
    }
   },
   "outputs": [],
   "source": [
    " def load_labels(path) -> np.array:\n",
    "        with open(path, \"rb\") as label_file:\n",
    "            data = bytearray(label_file.read())\n",
    "            labels_string = LZW.decompress(FIC.decompress(data))\n",
    "            labels_string = labels_string[1:-1]  # skip []\n",
    "            return np.asarray(list(map(lambda x: int(x), labels_string.split(\",\"))), dtype=int)"
   ]
  },
  {
   "cell_type": "code",
   "execution_count": 61,
   "id": "e0da6fd5-90b0-463b-bc5f-3de58a1c4bab",
   "metadata": {
    "pycharm": {
     "name": "#%%\n"
    }
   },
   "outputs": [],
   "source": [
    "path_to_annot = 'test_750_1000_20cm.pcd.labels'\n",
    "labels = load_labels(path_to_annot)"
   ]
  },
  {
   "cell_type": "code",
   "execution_count": 62,
   "id": "1375005c-1a96-4f25-9341-5684b10963ee",
   "metadata": {
    "pycharm": {
     "name": "#%%\n"
    }
   },
   "outputs": [],
   "source": [
    "import open3d as o3d\n",
    "pcd = o3d.io.read_point_cloud('test_750_1000_20cm.pcd')"
   ]
  },
  {
   "cell_type": "code",
   "execution_count": 97,
   "id": "af89fc6f-dd5c-4f4a-b152-2810ad436c4e",
   "metadata": {
    "pycharm": {
     "name": "#%%\n"
    }
   },
   "outputs": [],
   "source": [
    "import matplotlib.pyplot as plt\n",
    "\n",
    "def visualize_labels(pcd, labels):\n",
    "    geometries = []\n",
    "    points = np.asarray(pcd.points)\n",
    "    N_planes = int(np.max(labels) + 1)\n",
    "    print(N_planes)\n",
    "    \n",
    "    cmap = plt.cm.get_cmap('gist_ncar')\n",
    "    \n",
    "    for i in range(N_planes):\n",
    "        pcd = o3d.geometry.PointCloud()\n",
    "        pcd.points = o3d.utility.Vector3dVector(points[np.where(labels == i)])\n",
    "        if i == 0:\n",
    "            pcd.paint_uniform_color([0.5, 0.5, 0.5])\n",
    "        else:\n",
    "            pcd.paint_uniform_color(cmap(i / N_planes)[:3])\n",
    "        geometries.append(pcd)\n",
    "\n",
    "    o3d.visualization.draw_geometries(geometries)"
   ]
  },
  {
   "cell_type": "code",
   "execution_count": 64,
   "id": "dd023d66-34e6-455c-a125-ef15df725beb",
   "metadata": {
    "pycharm": {
     "name": "#%%\n"
    }
   },
   "outputs": [
    {
     "name": "stdout",
     "output_type": "stream",
     "text": [
      "100\n"
     ]
    }
   ],
   "source": [
    "visualize_labels(pcd, labels)"
   ]
  },
  {
   "cell_type": "code",
   "execution_count": 44,
   "id": "4c1d693d-d482-40e2-91c2-3ffbc7cd6a22",
   "metadata": {
    "pycharm": {
     "name": "#%%\n"
    }
   },
   "outputs": [],
   "source": [
    "def get_matrix_from_kitti_file(line: str) -> np.ndarray:\n",
    "    matrix = np.eye(4)\n",
    "    matrix[:3, :4] = np.array(list(map(float, line.rstrip().split(\" \")))).reshape(3, 4)\n",
    "\n",
    "    return matrix\n",
    "\n",
    "\n",
    "def get_calibration_matrix_from_calib_file(path_to_calibration_file: str) -> np.ndarray:\n",
    "    with open(path_to_calibration_file) as file:\n",
    "        return get_matrix_from_kitti_file(file.readlines()[4][4:])\n",
    "\n",
    "\n",
    "def get_position_matrices_from_poses_file(path_to_poses_file: str) -> list:\n",
    "    with open(path_to_poses_file) as file:\n",
    "        lines = file.readlines()\n",
    "        pose_matrices = []\n",
    "\n",
    "        for frame_number in range(len(lines)):\n",
    "            pose_matrices.append(get_matrix_from_kitti_file(lines[frame_number]))\n",
    "\n",
    "        return pose_matrices\n",
    "    \n",
    "def get_point_cloud_from_bin_file(path_to_bin_file: str) -> o3d.geometry.PointCloud:\n",
    "    \"\"\"\n",
    "    Function allows you to get a point cloud from a file with lidar data\n",
    "    \"\"\"\n",
    "    point_cloud_numpy = np.fromfile(path_to_bin_file, dtype=np.float32).reshape(-1, 4)\n",
    "    point_cloud = o3d.geometry.PointCloud()\n",
    "    point_cloud.points = o3d.utility.Vector3dVector(point_cloud_numpy[:, :3])\n",
    "    return point_cloud\n",
    "\n",
    "def transform_positions_in_point_cloud(\n",
    "    calib_matrix: np.ndarray,\n",
    "    pose_matrix: np.ndarray,\n",
    "    point_cloud: o3d.geometry.PointCloud\n",
    ") -> o3d.geometry.PointCloud:\n",
    "    left_camera_matrix = pose_matrix @ calib_matrix\n",
    "\n",
    "    return point_cloud.transform(left_camera_matrix)"
   ]
  },
  {
   "cell_type": "code",
   "execution_count": 69,
   "id": "6306743b-fcdb-45ef-b7ac-00736da625f5",
   "metadata": {
    "pycharm": {
     "name": "#%%\n"
    }
   },
   "outputs": [],
   "source": [
    "path_to_bin_dir = \"/home/anasyasiia/Downloads/SemanticKITTI_00/\"\n",
    "path_to_poses_file = \"/home/anasyasiia/Downloads/rss2018_frame2frame/00.txt\"\n",
    "path_to_calib_file = \"/home/anasyasiia/Downloads/data_odometry_calib/dataset/sequences/00/calib.txt\"\n",
    "\n",
    "point_cloud = o3d.geometry.PointCloud()\n",
    "calib_matrix = get_calibration_matrix_from_calib_file(path_to_calib_file)\n",
    "poses_matrices = get_position_matrices_from_poses_file(path_to_poses_file)\n",
    "\n",
    "index = 800\n",
    "path_to_current_point_cloud = os.path.join(\n",
    "        path_to_bin_dir, str(index).zfill(6) + \".bin\"\n",
    "    )\n",
    "temp_point_cloud = get_point_cloud_from_bin_file(path_to_current_point_cloud)\n",
    "temp_point_cloud = transform_positions_in_point_cloud(\n",
    "    calib_matrix, poses_matrices[index], temp_point_cloud\n",
    "    )\n",
    "\n",
    "obs_points = np.asarray(temp_point_cloud.points)\n",
    "temp_point_cloud.paint_uniform_color([1, 0, 0])\n",
    "o3d.visualization.draw_geometries([temp_point_cloud])"
   ]
  },
  {
   "cell_type": "code",
   "execution_count": 67,
   "id": "9a56236f-48c2-4c75-a815-7c8bdf1cef6e",
   "metadata": {
    "pycharm": {
     "name": "#%%\n"
    }
   },
   "outputs": [],
   "source": [
    "def remap_labels(pc_obs, pc_map, labels_map):\n",
    "    cmap = plt.cm.get_cmap('gist_ncar')\n",
    "    N_planes = np.max(labels_map) + 1\n",
    "    map_tree = o3d.geometry.KDTreeFlann(pc_map)\n",
    "    obs_points = np.asarray(pc_obs.points)\n",
    "    pc_obs.paint_uniform_color([0.5, 0.5, 0.5])\n",
    "\n",
    "    labels_obs = np.zeros(obs_points.shape[0])\n",
    "    for point_idx in range(obs_points.shape[0]):\n",
    "        [k, idx, _] = map_tree.search_knn_vector_3d(obs_points[point_idx], 1)\n",
    "        if labels_map[idx[0]] == 0:\n",
    "            np.asarray(pc_obs.colors)[point_idx] = [0.5, 0.5, 0.5]\n",
    "        else:\n",
    "            np.asarray(pc_obs.colors)[point_idx] = cmap(labels_map[idx[0]] / N_planes)[:3]\n",
    "        labels_obs[point_idx] = labels_map[idx[0]]\n",
    "        \n",
    "    o3d.visualization.draw_geometries([pc_obs]) #, pc_map])\n",
    "    return labels_obs"
   ]
  },
  {
   "cell_type": "code",
   "execution_count": 70,
   "id": "3b82ce5c-c0ed-45ff-a1dd-500d8588f158",
   "metadata": {
    "pycharm": {
     "name": "#%%\n"
    }
   },
   "outputs": [
    {
     "data": {
      "text/plain": [
       "array([27., 27., 27., ...,  0.,  0.,  0.])"
      ]
     },
     "execution_count": 70,
     "metadata": {},
     "output_type": "execute_result"
    }
   ],
   "source": [
    "remap_labels(temp_point_cloud, pcd, labels)"
   ]
  },
  {
   "cell_type": "code",
   "execution_count": 172,
   "id": "92ec7428-e4b4-412f-92bc-4cd668be0833",
   "metadata": {
    "pycharm": {
     "name": "#%%\n"
    }
   },
   "outputs": [],
   "source": [
    "pc1 = o3d.io.read_point_cloud('pcds/test_100_20cm.pcd')\n",
    "pc2 = o3d.io.read_point_cloud('pcds/test_150_250_20cm.pcd')\n",
    "pc3 = o3d.io.read_point_cloud('pcds/test_350_500_20cm.pcd')\n",
    "pc4 = o3d.io.read_point_cloud('pcds/test_500_750_20cm.pcd')\n",
    "pc5 = o3d.io.read_point_cloud('pcds/test_750_1000_20cm.pcd')\n",
    "\n",
    "labels1 = load_labels('labels/Облака/test_100_20cm.pcd.labels')\n",
    "labels2 = load_labels('labels/Облака/test_150_250_20cm.pcd.labels')\n",
    "labels3 = load_labels('labels/Облака/test_350_500_20cm.pcd.labels')\n",
    "labels4 = load_labels('labels/Облака/test_500_750_20cm.pcd.labels')\n",
    "labels5 = load_labels('labels/Облака/test_750_1000_20cm.pcd.labels')\n",
    "\n",
    "o3d.visualization.draw_geometries([pc1, pc2, pc3, pc4, pc5])"
   ]
  },
  {
   "cell_type": "code",
   "execution_count": 82,
   "id": "3aeeedb4-f149-4cae-a7f5-a65aad2b6e2b",
   "metadata": {
    "pycharm": {
     "name": "#%%\n"
    }
   },
   "outputs": [],
   "source": [
    "def color_planar_points(pcd, labels):\n",
    "    planar_indices = np.where(labels != 0)\n",
    "    print(planar_indices)\n",
    "    pcd.paint_uniform_color([0.5, 0.5, 0.5])\n",
    "    np.asarray(pcd.colors)[planar_indices] = [1, 0, 0]\n",
    "    \n",
    "#     return pcd"
   ]
  },
  {
   "cell_type": "code",
   "execution_count": 165,
   "id": "7f1d0fa2-66e7-4e49-b7e0-9a915d864a92",
   "metadata": {
    "pycharm": {
     "name": "#%%\n"
    }
   },
   "outputs": [
    {
     "name": "stdout",
     "output_type": "stream",
     "text": [
      "(array([     5,    105,    210, ..., 208358, 208360, 208363]),)\n",
      "(array([   182,    183,    232, ..., 384106, 384107, 384108]),)\n",
      "(array([   584,    648,    649, ..., 259060, 259061, 259062]),)\n",
      "(array([   192,    288,    289, ..., 370351, 370355, 370363]),)\n",
      "(array([   198,    229,    230, ..., 442571, 442574, 442579]),)\n"
     ]
    }
   ],
   "source": [
    "color_planar_points(pc1, labels1)\n",
    "color_planar_points(pc2, labels2)\n",
    "color_planar_points(pc3, labels3)\n",
    "color_planar_points(pc4, labels4)\n",
    "color_planar_points(pc5, labels5)\n",
    "\n",
    "o3d.visualization.draw_geometries([pc5])"
   ]
  },
  {
   "cell_type": "code",
   "execution_count": 173,
   "id": "dad59689-af3e-45ec-b1f8-266d50639869",
   "metadata": {
    "pycharm": {
     "name": "#%%\n"
    }
   },
   "outputs": [],
   "source": [
    "mp_labels = np.hstack((labels1, labels2, labels3, labels4, labels5))\n",
    "mp_pcd = pc1 + pc2 + pc3 + pc4 + pc5"
   ]
  },
  {
   "cell_type": "code",
   "execution_count": 92,
   "id": "e41f0155-bc96-4573-b3eb-c69d5227c7df",
   "metadata": {
    "pycharm": {
     "name": "#%%\n"
    }
   },
   "outputs": [
    {
     "data": {
      "text/plain": [
       "array([ 0,  0,  0, ..., 16,  0,  0])"
      ]
     },
     "execution_count": 92,
     "metadata": {},
     "output_type": "execute_result"
    }
   ],
   "source": []
  },
  {
   "cell_type": "code",
   "execution_count": 160,
   "id": "1813b9f6-d799-4f3e-a203-2ee249fa35ba",
   "metadata": {
    "pycharm": {
     "name": "#%%\n"
    }
   },
   "outputs": [],
   "source": [
    "index = 800\n",
    "path_to_current_point_cloud = os.path.join(\n",
    "        path_to_bin_dir, str(index).zfill(6) + \".bin\"\n",
    "    )\n",
    "temp_point_cloud = get_point_cloud_from_bin_file(path_to_current_point_cloud)\n",
    "temp_point_cloud = transform_positions_in_point_cloud(\n",
    "    calib_matrix, poses_matrices[index], temp_point_cloud\n",
    "    )"
   ]
  },
  {
   "cell_type": "code",
   "execution_count": 174,
   "id": "3884399b-ece0-42aa-a350-07ec341c9a82",
   "metadata": {
    "pycharm": {
     "name": "#%%\n"
    }
   },
   "outputs": [],
   "source": [
    "def remap_binary_labels(pc_obs, pc_map, labels_map):\n",
    "    map_tree = o3d.geometry.KDTreeFlann(pc_map)\n",
    "    obs_points = np.asarray(pc_obs.points)\n",
    "\n",
    "    labels_obs = np.zeros(obs_points.shape[0])\n",
    "    for point_idx in range(obs_points.shape[0]):\n",
    "        [k, idx, _] = map_tree.search_radius_vector_3d(obs_points[point_idx], 0.15)\n",
    "#         print(np.any(labels_map[idx != 0]))\n",
    "        if np.any(labels_map[idx] != 0):\n",
    "            labels_obs[point_idx] = 1\n",
    "        \n",
    "    return labels_obs"
   ]
  },
  {
   "cell_type": "code",
   "execution_count": 175,
   "id": "c6937d76-eeed-46d0-b59e-7c95baffb7cc",
   "metadata": {
    "pycharm": {
     "name": "#%%\n"
    }
   },
   "outputs": [
    {
     "name": "stderr",
     "output_type": "stream",
     "text": [
      "100%|██████████| 1000/1000 [56:38<00:00,  3.40s/it] \n"
     ]
    }
   ],
   "source": [
    "from tqdm import tqdm\n",
    "\n",
    "for index in tqdm(range(0, 1000)):\n",
    "    path_to_current_point_cloud = os.path.join(\n",
    "            path_to_bin_dir, str(index).zfill(6) + \".bin\"\n",
    "        )\n",
    "    temp_point_cloud = get_point_cloud_from_bin_file(path_to_current_point_cloud)\n",
    "    temp_point_cloud = transform_positions_in_point_cloud(\n",
    "        calib_matrix, poses_matrices[index], temp_point_cloud\n",
    "        )\n",
    "\n",
    "    labels_bin = remap_binary_labels(temp_point_cloud, mp_pcd, mp_labels)\n",
    "\n",
    "    np.save('labeled_00/' + str(index).zfill(6) + '.npy', labels_bin)"
   ]
  },
  {
   "cell_type": "code",
   "execution_count": 164,
   "id": "fb449b22-2d30-40db-ac51-71e80fc19e0a",
   "metadata": {
    "pycharm": {
     "name": "#%%\n"
    }
   },
   "outputs": [
    {
     "name": "stdout",
     "output_type": "stream",
     "text": [
      "2\n"
     ]
    }
   ],
   "source": [
    "visualize_labels(temp_point_cloud, labels_800)"
   ]
  },
  {
   "cell_type": "code",
   "execution_count": null,
   "id": "4ae2c9e8-7ce2-4423-a1ed-8d93cf5a9a88",
   "metadata": {
    "pycharm": {
     "name": "#%%\n"
    }
   },
   "outputs": [],
   "source": []
  }
 ],
 "metadata": {
  "kernelspec": {
   "display_name": "Python 3",
   "language": "python",
   "name": "python3"
  },
  "language_info": {
   "codemirror_mode": {
    "name": "ipython",
    "version": 3
   },
   "file_extension": ".py",
   "mimetype": "text/x-python",
   "name": "python",
   "nbconvert_exporter": "python",
   "pygments_lexer": "ipython3",
   "version": "3.8.8"
  }
 },
 "nbformat": 4,
 "nbformat_minor": 5
}