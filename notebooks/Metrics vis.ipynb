{
 "cells": [
  {
   "cell_type": "code",
   "execution_count": null,
   "id": "80a8725c",
   "metadata": {
    "pycharm": {
     "name": "#%%\n"
    }
   },
   "outputs": [],
   "source": []
  },
  {
   "cell_type": "code",
   "execution_count": 1,
   "id": "d77c957e-4b75-476c-9f1d-165f639a9370",
   "metadata": {
    "pycharm": {
     "name": "#%%\n"
    }
   },
   "outputs": [],
   "source": [
    "import pandas as pd"
   ]
  },
  {
   "cell_type": "code",
   "execution_count": 2,
   "id": "ae21f2de-e569-4711-bd44-4e4c3112ca7d",
   "metadata": {
    "pycharm": {
     "name": "#%%\n"
    }
   },
   "outputs": [],
   "source": [
    "scenes = ['tum_cabinet', 'tum_desk', 'tum_long_office', 'tum_pioneer'] # ['icl_living', 'icl_office'] # \n",
    "# scenes = ['icl_living', 'icl_office'] #\n",
    "end_indices = [30, 30, 22, 11, 52, 57]\n",
    "\n",
    "df = []\n",
    "for i, scene in enumerate(scenes):\n",
    "    end_ind = 11\n",
    "    ddpff = pd.read_csv('C://Users//dimaj//Desktop//met_final-20220313T191313Z-001//met_final//met_DDPFF//{}//results.csv'.format(scene))[:end_ind]\n",
    "    ddpff['method'] = 'DDPFF'\n",
    "    pclcc = pd.read_csv('C://Users//dimaj//Desktop//met_final-20220313T191313Z-001//met_final//met_pclcc//{}//results.csv'.format(scene))[:end_ind]\n",
    "    pclcc['method'] = 'PCLCC'\n",
    "    pclrg = pd.read_csv('C://Users//dimaj//Desktop//met_final-20220313T191313Z-001//met_final//met_pclrg//{}//results.csv'.format(scene))[:end_ind]\n",
    "    pclrg['method'] = 'PCLRG'\n",
    "    peac = pd.read_csv('C://Users//dimaj//Desktop//met_final-20220313T191313Z-001//met_final//met_peac//{}//results.csv'.format(scene))[:end_ind]\n",
    "    peac['method'] = 'PEAC'\n",
    "    storm_irit = pd.read_csv('C://Users//dimaj//Desktop//met_final-20220313T191313Z-001//met_final//met_irit//{}//results.csv'.format(scene))[:end_ind]\n",
    "    storm_irit['method'] = 'STORM-IRIT'\n",
    "    tams = pd.read_csv('C://Users//dimaj//Desktop//met_final-20220313T191313Z-001//met_final//met_TAMS//{}//results.csv'.format(scene))[:end_ind]\n",
    "    tams['method'] = 'TAMS'\n",
    "    cape = pd.read_csv('C://Users//dimaj//Desktop//met_final-20220313T191313Z-001//met_final//met_cape//{}//results.csv'.format(scene))[:end_ind]\n",
    "    cape['method'] = 'CAPE'\n",
    "    \n",
    "    # storm irit disabled!!!!\n",
    "    if scene != 'tum_pioneer':\n",
    "        df += [ddpff, pclcc, pclrg, peac, tams, cape]\n",
    "    else:\n",
    "        df += [ddpff, pclcc, pclrg, peac, tams, cape]\n"
   ]
  },
  {
   "cell_type": "code",
   "execution_count": 3,
   "id": "767ef655-b076-4e3c-80ee-06a8f74b5b4b",
   "metadata": {
    "pycharm": {
     "name": "#%%\n"
    }
   },
   "outputs": [
    {
     "data": {
      "text/plain": [
       "11"
      ]
     },
     "execution_count": 3,
     "metadata": {},
     "output_type": "execute_result"
    }
   ],
   "source": [
    "end_ind"
   ]
  },
  {
   "cell_type": "code",
   "execution_count": null,
   "id": "785bfa06",
   "metadata": {
    "pycharm": {
     "name": "#%%\n"
    }
   },
   "outputs": [],
   "source": []
  },
  {
   "cell_type": "code",
   "execution_count": 4,
   "id": "af9d5035",
   "metadata": {
    "pycharm": {
     "name": "#%%\n"
    }
   },
   "outputs": [],
   "source": [
    "df = pd.concat(df)"
   ]
  },
  {
   "cell_type": "code",
   "execution_count": 5,
   "id": "ed4af736",
   "metadata": {
    "pycharm": {
     "name": "#%%\n"
    }
   },
   "outputs": [
    {
     "data": {
      "text/html": [
       "<div>\n",
       "<style scoped>\n",
       "    .dataframe tbody tr th:only-of-type {\n",
       "        vertical-align: middle;\n",
       "    }\n",
       "\n",
       "    .dataframe tbody tr th {\n",
       "        vertical-align: top;\n",
       "    }\n",
       "\n",
       "    .dataframe thead th {\n",
       "        text-align: right;\n",
       "    }\n",
       "</style>\n",
       "<table border=\"1\" class=\"dataframe\">\n",
       "  <thead>\n",
       "    <tr style=\"text-align: right;\">\n",
       "      <th></th>\n",
       "      <th>multi_precision</th>\n",
       "      <th>multi_recall</th>\n",
       "      <th>multi_under_segmented</th>\n",
       "      <th>multi_over_segmented</th>\n",
       "      <th>multi_missed</th>\n",
       "      <th>multi_noise</th>\n",
       "      <th>mean_iou</th>\n",
       "      <th>mean_dice</th>\n",
       "      <th>mean_precision</th>\n",
       "      <th>mean_recall</th>\n",
       "      <th>mean_fScore</th>\n",
       "      <th>method</th>\n",
       "    </tr>\n",
       "  </thead>\n",
       "  <tbody>\n",
       "    <tr>\n",
       "      <th>0</th>\n",
       "      <td>0.034483</td>\n",
       "      <td>0.125000</td>\n",
       "      <td>0.155172</td>\n",
       "      <td>0.625000</td>\n",
       "      <td>0.875000</td>\n",
       "      <td>0.965517</td>\n",
       "      <td>0.096681</td>\n",
       "      <td>0.123685</td>\n",
       "      <td>0.369855</td>\n",
       "      <td>0.122682</td>\n",
       "      <td>0.123685</td>\n",
       "      <td>DDPFF</td>\n",
       "    </tr>\n",
       "    <tr>\n",
       "      <th>1</th>\n",
       "      <td>0.068182</td>\n",
       "      <td>0.150000</td>\n",
       "      <td>0.454545</td>\n",
       "      <td>0.900000</td>\n",
       "      <td>0.850000</td>\n",
       "      <td>0.931818</td>\n",
       "      <td>0.181197</td>\n",
       "      <td>0.238286</td>\n",
       "      <td>0.499967</td>\n",
       "      <td>0.239204</td>\n",
       "      <td>0.238286</td>\n",
       "      <td>DDPFF</td>\n",
       "    </tr>\n",
       "    <tr>\n",
       "      <th>2</th>\n",
       "      <td>0.039216</td>\n",
       "      <td>0.083333</td>\n",
       "      <td>0.294118</td>\n",
       "      <td>0.666667</td>\n",
       "      <td>0.916667</td>\n",
       "      <td>0.960784</td>\n",
       "      <td>0.156180</td>\n",
       "      <td>0.200692</td>\n",
       "      <td>0.408683</td>\n",
       "      <td>0.201534</td>\n",
       "      <td>0.200692</td>\n",
       "      <td>DDPFF</td>\n",
       "    </tr>\n",
       "    <tr>\n",
       "      <th>3</th>\n",
       "      <td>0.051724</td>\n",
       "      <td>0.115385</td>\n",
       "      <td>0.258621</td>\n",
       "      <td>0.692308</td>\n",
       "      <td>0.884615</td>\n",
       "      <td>0.948276</td>\n",
       "      <td>0.157256</td>\n",
       "      <td>0.204441</td>\n",
       "      <td>0.386925</td>\n",
       "      <td>0.208296</td>\n",
       "      <td>0.204441</td>\n",
       "      <td>DDPFF</td>\n",
       "    </tr>\n",
       "    <tr>\n",
       "      <th>4</th>\n",
       "      <td>0.095238</td>\n",
       "      <td>0.300000</td>\n",
       "      <td>0.190476</td>\n",
       "      <td>0.700000</td>\n",
       "      <td>0.700000</td>\n",
       "      <td>0.904762</td>\n",
       "      <td>0.143407</td>\n",
       "      <td>0.176707</td>\n",
       "      <td>0.445030</td>\n",
       "      <td>0.162418</td>\n",
       "      <td>0.176707</td>\n",
       "      <td>DDPFF</td>\n",
       "    </tr>\n",
       "    <tr>\n",
       "      <th>...</th>\n",
       "      <td>...</td>\n",
       "      <td>...</td>\n",
       "      <td>...</td>\n",
       "      <td>...</td>\n",
       "      <td>...</td>\n",
       "      <td>...</td>\n",
       "      <td>...</td>\n",
       "      <td>...</td>\n",
       "      <td>...</td>\n",
       "      <td>...</td>\n",
       "      <td>...</td>\n",
       "      <td>...</td>\n",
       "    </tr>\n",
       "    <tr>\n",
       "      <th>6</th>\n",
       "      <td>0.500000</td>\n",
       "      <td>0.071429</td>\n",
       "      <td>1.000000</td>\n",
       "      <td>0.214286</td>\n",
       "      <td>0.928571</td>\n",
       "      <td>0.500000</td>\n",
       "      <td>0.763719</td>\n",
       "      <td>0.854449</td>\n",
       "      <td>0.772320</td>\n",
       "      <td>0.990704</td>\n",
       "      <td>0.854449</td>\n",
       "      <td>CAPE</td>\n",
       "    </tr>\n",
       "    <tr>\n",
       "      <th>7</th>\n",
       "      <td>0.600000</td>\n",
       "      <td>0.230769</td>\n",
       "      <td>1.000000</td>\n",
       "      <td>0.461538</td>\n",
       "      <td>0.769231</td>\n",
       "      <td>0.400000</td>\n",
       "      <td>0.863399</td>\n",
       "      <td>0.923795</td>\n",
       "      <td>0.871023</td>\n",
       "      <td>0.998280</td>\n",
       "      <td>0.923795</td>\n",
       "      <td>CAPE</td>\n",
       "    </tr>\n",
       "    <tr>\n",
       "      <th>8</th>\n",
       "      <td>0.500000</td>\n",
       "      <td>0.100000</td>\n",
       "      <td>1.000000</td>\n",
       "      <td>0.550000</td>\n",
       "      <td>0.900000</td>\n",
       "      <td>0.500000</td>\n",
       "      <td>0.641532</td>\n",
       "      <td>0.749164</td>\n",
       "      <td>0.651093</td>\n",
       "      <td>0.981730</td>\n",
       "      <td>0.749164</td>\n",
       "      <td>CAPE</td>\n",
       "    </tr>\n",
       "    <tr>\n",
       "      <th>9</th>\n",
       "      <td>0.714286</td>\n",
       "      <td>0.263158</td>\n",
       "      <td>1.000000</td>\n",
       "      <td>0.473684</td>\n",
       "      <td>0.736842</td>\n",
       "      <td>0.285714</td>\n",
       "      <td>0.740484</td>\n",
       "      <td>0.811921</td>\n",
       "      <td>0.888372</td>\n",
       "      <td>0.848948</td>\n",
       "      <td>0.811921</td>\n",
       "      <td>CAPE</td>\n",
       "    </tr>\n",
       "    <tr>\n",
       "      <th>10</th>\n",
       "      <td>0.500000</td>\n",
       "      <td>0.187500</td>\n",
       "      <td>1.000000</td>\n",
       "      <td>0.750000</td>\n",
       "      <td>0.812500</td>\n",
       "      <td>0.500000</td>\n",
       "      <td>0.700226</td>\n",
       "      <td>0.811273</td>\n",
       "      <td>0.739785</td>\n",
       "      <td>0.970778</td>\n",
       "      <td>0.811273</td>\n",
       "      <td>CAPE</td>\n",
       "    </tr>\n",
       "  </tbody>\n",
       "</table>\n",
       "<p>132 rows × 12 columns</p>\n",
       "</div>"
      ],
      "text/plain": [
       "    multi_precision  multi_recall  multi_under_segmented  \\\n",
       "0          0.034483      0.125000               0.155172   \n",
       "1          0.068182      0.150000               0.454545   \n",
       "2          0.039216      0.083333               0.294118   \n",
       "3          0.051724      0.115385               0.258621   \n",
       "4          0.095238      0.300000               0.190476   \n",
       "..              ...           ...                    ...   \n",
       "6          0.500000      0.071429               1.000000   \n",
       "7          0.600000      0.230769               1.000000   \n",
       "8          0.500000      0.100000               1.000000   \n",
       "9          0.714286      0.263158               1.000000   \n",
       "10         0.500000      0.187500               1.000000   \n",
       "\n",
       "    multi_over_segmented  multi_missed  multi_noise  mean_iou  mean_dice  \\\n",
       "0               0.625000      0.875000     0.965517  0.096681   0.123685   \n",
       "1               0.900000      0.850000     0.931818  0.181197   0.238286   \n",
       "2               0.666667      0.916667     0.960784  0.156180   0.200692   \n",
       "3               0.692308      0.884615     0.948276  0.157256   0.204441   \n",
       "4               0.700000      0.700000     0.904762  0.143407   0.176707   \n",
       "..                   ...           ...          ...       ...        ...   \n",
       "6               0.214286      0.928571     0.500000  0.763719   0.854449   \n",
       "7               0.461538      0.769231     0.400000  0.863399   0.923795   \n",
       "8               0.550000      0.900000     0.500000  0.641532   0.749164   \n",
       "9               0.473684      0.736842     0.285714  0.740484   0.811921   \n",
       "10              0.750000      0.812500     0.500000  0.700226   0.811273   \n",
       "\n",
       "    mean_precision  mean_recall  mean_fScore method  \n",
       "0         0.369855     0.122682     0.123685  DDPFF  \n",
       "1         0.499967     0.239204     0.238286  DDPFF  \n",
       "2         0.408683     0.201534     0.200692  DDPFF  \n",
       "3         0.386925     0.208296     0.204441  DDPFF  \n",
       "4         0.445030     0.162418     0.176707  DDPFF  \n",
       "..             ...          ...          ...    ...  \n",
       "6         0.772320     0.990704     0.854449   CAPE  \n",
       "7         0.871023     0.998280     0.923795   CAPE  \n",
       "8         0.651093     0.981730     0.749164   CAPE  \n",
       "9         0.888372     0.848948     0.811921   CAPE  \n",
       "10        0.739785     0.970778     0.811273   CAPE  \n",
       "\n",
       "[132 rows x 12 columns]"
      ]
     },
     "execution_count": 5,
     "metadata": {},
     "output_type": "execute_result"
    }
   ],
   "source": [
    "df"
   ]
  },
  {
   "cell_type": "code",
   "execution_count": 6,
   "id": "d53e256b-37e1-4a51-8039-63d33b5013d2",
   "metadata": {
    "pycharm": {
     "name": "#%%\n"
    }
   },
   "outputs": [],
   "source": [
    "# df = pd.concat([cape, pclcc, storm_irit, ddpff, peac, pclrg, tams])\n",
    "\n",
    "df_melt = pd.melt(df, 'method', var_name=\"metric\", value_name='')"
   ]
  },
  {
   "cell_type": "code",
   "execution_count": 7,
   "id": "579163be-8f4b-4dd8-a8d0-c7414af7cb12",
   "metadata": {
    "pycharm": {
     "name": "#%%\n"
    }
   },
   "outputs": [
    {
     "data": {
      "text/html": [
       "<div>\n",
       "<style scoped>\n",
       "    .dataframe tbody tr th:only-of-type {\n",
       "        vertical-align: middle;\n",
       "    }\n",
       "\n",
       "    .dataframe tbody tr th {\n",
       "        vertical-align: top;\n",
       "    }\n",
       "\n",
       "    .dataframe thead th {\n",
       "        text-align: right;\n",
       "    }\n",
       "</style>\n",
       "<table border=\"1\" class=\"dataframe\">\n",
       "  <thead>\n",
       "    <tr style=\"text-align: right;\">\n",
       "      <th></th>\n",
       "      <th>multi_precision</th>\n",
       "      <th>multi_recall</th>\n",
       "      <th>multi_under_segmented</th>\n",
       "      <th>multi_over_segmented</th>\n",
       "      <th>multi_missed</th>\n",
       "      <th>multi_noise</th>\n",
       "      <th>mean_iou</th>\n",
       "      <th>mean_dice</th>\n",
       "      <th>mean_precision</th>\n",
       "      <th>mean_recall</th>\n",
       "      <th>mean_fScore</th>\n",
       "      <th>method</th>\n",
       "    </tr>\n",
       "  </thead>\n",
       "  <tbody>\n",
       "    <tr>\n",
       "      <th>0</th>\n",
       "      <td>0.136842</td>\n",
       "      <td>0.812500</td>\n",
       "      <td>0.063158</td>\n",
       "      <td>0.875000</td>\n",
       "      <td>0.187500</td>\n",
       "      <td>0.863158</td>\n",
       "      <td>0.151442</td>\n",
       "      <td>0.166930</td>\n",
       "      <td>0.485961</td>\n",
       "      <td>0.161929</td>\n",
       "      <td>0.166930</td>\n",
       "      <td>PCLRG</td>\n",
       "    </tr>\n",
       "    <tr>\n",
       "      <th>1</th>\n",
       "      <td>0.218182</td>\n",
       "      <td>0.600000</td>\n",
       "      <td>0.181818</td>\n",
       "      <td>0.750000</td>\n",
       "      <td>0.400000</td>\n",
       "      <td>0.781818</td>\n",
       "      <td>0.264254</td>\n",
       "      <td>0.293718</td>\n",
       "      <td>0.493536</td>\n",
       "      <td>0.297876</td>\n",
       "      <td>0.293718</td>\n",
       "      <td>PCLRG</td>\n",
       "    </tr>\n",
       "    <tr>\n",
       "      <th>2</th>\n",
       "      <td>0.333333</td>\n",
       "      <td>0.416667</td>\n",
       "      <td>0.300000</td>\n",
       "      <td>0.500000</td>\n",
       "      <td>0.583333</td>\n",
       "      <td>0.666667</td>\n",
       "      <td>0.486908</td>\n",
       "      <td>0.552256</td>\n",
       "      <td>0.618816</td>\n",
       "      <td>0.608667</td>\n",
       "      <td>0.552256</td>\n",
       "      <td>PCLRG</td>\n",
       "    </tr>\n",
       "    <tr>\n",
       "      <th>3</th>\n",
       "      <td>0.406250</td>\n",
       "      <td>0.500000</td>\n",
       "      <td>0.343750</td>\n",
       "      <td>0.423077</td>\n",
       "      <td>0.500000</td>\n",
       "      <td>0.593750</td>\n",
       "      <td>0.547462</td>\n",
       "      <td>0.604544</td>\n",
       "      <td>0.633901</td>\n",
       "      <td>0.645991</td>\n",
       "      <td>0.604544</td>\n",
       "      <td>PCLRG</td>\n",
       "    </tr>\n",
       "    <tr>\n",
       "      <th>4</th>\n",
       "      <td>0.160494</td>\n",
       "      <td>0.650000</td>\n",
       "      <td>0.123457</td>\n",
       "      <td>0.600000</td>\n",
       "      <td>0.350000</td>\n",
       "      <td>0.839506</td>\n",
       "      <td>0.203290</td>\n",
       "      <td>0.225288</td>\n",
       "      <td>0.414058</td>\n",
       "      <td>0.221983</td>\n",
       "      <td>0.225288</td>\n",
       "      <td>PCLRG</td>\n",
       "    </tr>\n",
       "    <tr>\n",
       "      <th>5</th>\n",
       "      <td>0.205128</td>\n",
       "      <td>0.727273</td>\n",
       "      <td>0.076923</td>\n",
       "      <td>0.636364</td>\n",
       "      <td>0.272727</td>\n",
       "      <td>0.794872</td>\n",
       "      <td>0.228696</td>\n",
       "      <td>0.247720</td>\n",
       "      <td>0.381734</td>\n",
       "      <td>0.266924</td>\n",
       "      <td>0.247720</td>\n",
       "      <td>PCLRG</td>\n",
       "    </tr>\n",
       "    <tr>\n",
       "      <th>6</th>\n",
       "      <td>0.250000</td>\n",
       "      <td>1.000000</td>\n",
       "      <td>0.187500</td>\n",
       "      <td>1.000000</td>\n",
       "      <td>0.000000</td>\n",
       "      <td>0.750000</td>\n",
       "      <td>0.245167</td>\n",
       "      <td>0.248701</td>\n",
       "      <td>0.332311</td>\n",
       "      <td>0.245601</td>\n",
       "      <td>0.248701</td>\n",
       "      <td>PCLRG</td>\n",
       "    </tr>\n",
       "    <tr>\n",
       "      <th>7</th>\n",
       "      <td>0.375000</td>\n",
       "      <td>1.000000</td>\n",
       "      <td>0.125000</td>\n",
       "      <td>0.666667</td>\n",
       "      <td>0.000000</td>\n",
       "      <td>0.625000</td>\n",
       "      <td>0.357705</td>\n",
       "      <td>0.367897</td>\n",
       "      <td>0.414344</td>\n",
       "      <td>0.362391</td>\n",
       "      <td>0.367897</td>\n",
       "      <td>PCLRG</td>\n",
       "    </tr>\n",
       "    <tr>\n",
       "      <th>8</th>\n",
       "      <td>0.159091</td>\n",
       "      <td>0.700000</td>\n",
       "      <td>0.090909</td>\n",
       "      <td>0.600000</td>\n",
       "      <td>0.300000</td>\n",
       "      <td>0.840909</td>\n",
       "      <td>0.195733</td>\n",
       "      <td>0.212117</td>\n",
       "      <td>0.340620</td>\n",
       "      <td>0.213318</td>\n",
       "      <td>0.212117</td>\n",
       "      <td>PCLRG</td>\n",
       "    </tr>\n",
       "    <tr>\n",
       "      <th>9</th>\n",
       "      <td>0.155844</td>\n",
       "      <td>0.705882</td>\n",
       "      <td>0.155844</td>\n",
       "      <td>0.764706</td>\n",
       "      <td>0.294118</td>\n",
       "      <td>0.844156</td>\n",
       "      <td>0.190099</td>\n",
       "      <td>0.214057</td>\n",
       "      <td>0.508501</td>\n",
       "      <td>0.208027</td>\n",
       "      <td>0.214057</td>\n",
       "      <td>PCLRG</td>\n",
       "    </tr>\n",
       "    <tr>\n",
       "      <th>10</th>\n",
       "      <td>0.191489</td>\n",
       "      <td>0.600000</td>\n",
       "      <td>0.127660</td>\n",
       "      <td>0.800000</td>\n",
       "      <td>0.400000</td>\n",
       "      <td>0.808511</td>\n",
       "      <td>0.271537</td>\n",
       "      <td>0.305880</td>\n",
       "      <td>0.458782</td>\n",
       "      <td>0.300741</td>\n",
       "      <td>0.305880</td>\n",
       "      <td>PCLRG</td>\n",
       "    </tr>\n",
       "    <tr>\n",
       "      <th>0</th>\n",
       "      <td>0.108696</td>\n",
       "      <td>0.666667</td>\n",
       "      <td>0.195652</td>\n",
       "      <td>0.866667</td>\n",
       "      <td>0.333333</td>\n",
       "      <td>0.891304</td>\n",
       "      <td>0.133500</td>\n",
       "      <td>0.157049</td>\n",
       "      <td>0.589145</td>\n",
       "      <td>0.137757</td>\n",
       "      <td>0.157049</td>\n",
       "      <td>PCLRG</td>\n",
       "    </tr>\n",
       "    <tr>\n",
       "      <th>1</th>\n",
       "      <td>0.183673</td>\n",
       "      <td>0.692308</td>\n",
       "      <td>0.163265</td>\n",
       "      <td>0.692308</td>\n",
       "      <td>0.307692</td>\n",
       "      <td>0.816327</td>\n",
       "      <td>0.210829</td>\n",
       "      <td>0.234336</td>\n",
       "      <td>0.388315</td>\n",
       "      <td>0.220841</td>\n",
       "      <td>0.234336</td>\n",
       "      <td>PCLRG</td>\n",
       "    </tr>\n",
       "    <tr>\n",
       "      <th>2</th>\n",
       "      <td>0.230769</td>\n",
       "      <td>0.750000</td>\n",
       "      <td>0.115385</td>\n",
       "      <td>0.375000</td>\n",
       "      <td>0.250000</td>\n",
       "      <td>0.769231</td>\n",
       "      <td>0.245243</td>\n",
       "      <td>0.255431</td>\n",
       "      <td>0.263716</td>\n",
       "      <td>0.262316</td>\n",
       "      <td>0.255431</td>\n",
       "      <td>PCLRG</td>\n",
       "    </tr>\n",
       "    <tr>\n",
       "      <th>3</th>\n",
       "      <td>0.189189</td>\n",
       "      <td>0.636364</td>\n",
       "      <td>0.162162</td>\n",
       "      <td>0.545455</td>\n",
       "      <td>0.363636</td>\n",
       "      <td>0.810811</td>\n",
       "      <td>0.232995</td>\n",
       "      <td>0.258766</td>\n",
       "      <td>0.348159</td>\n",
       "      <td>0.239635</td>\n",
       "      <td>0.258766</td>\n",
       "      <td>PCLRG</td>\n",
       "    </tr>\n",
       "    <tr>\n",
       "      <th>4</th>\n",
       "      <td>0.138889</td>\n",
       "      <td>0.588235</td>\n",
       "      <td>0.111111</td>\n",
       "      <td>0.764706</td>\n",
       "      <td>0.411765</td>\n",
       "      <td>0.861111</td>\n",
       "      <td>0.169464</td>\n",
       "      <td>0.193939</td>\n",
       "      <td>0.329659</td>\n",
       "      <td>0.186793</td>\n",
       "      <td>0.193939</td>\n",
       "      <td>PCLRG</td>\n",
       "    </tr>\n",
       "    <tr>\n",
       "      <th>5</th>\n",
       "      <td>0.280702</td>\n",
       "      <td>0.761905</td>\n",
       "      <td>0.263158</td>\n",
       "      <td>0.619048</td>\n",
       "      <td>0.238095</td>\n",
       "      <td>0.719298</td>\n",
       "      <td>0.291805</td>\n",
       "      <td>0.320725</td>\n",
       "      <td>0.456089</td>\n",
       "      <td>0.311336</td>\n",
       "      <td>0.320725</td>\n",
       "      <td>PCLRG</td>\n",
       "    </tr>\n",
       "    <tr>\n",
       "      <th>6</th>\n",
       "      <td>0.170732</td>\n",
       "      <td>0.500000</td>\n",
       "      <td>0.097561</td>\n",
       "      <td>0.357143</td>\n",
       "      <td>0.500000</td>\n",
       "      <td>0.829268</td>\n",
       "      <td>0.254513</td>\n",
       "      <td>0.281986</td>\n",
       "      <td>0.413598</td>\n",
       "      <td>0.285071</td>\n",
       "      <td>0.281986</td>\n",
       "      <td>PCLRG</td>\n",
       "    </tr>\n",
       "    <tr>\n",
       "      <th>7</th>\n",
       "      <td>0.173913</td>\n",
       "      <td>0.615385</td>\n",
       "      <td>0.195652</td>\n",
       "      <td>0.615385</td>\n",
       "      <td>0.384615</td>\n",
       "      <td>0.826087</td>\n",
       "      <td>0.217460</td>\n",
       "      <td>0.239511</td>\n",
       "      <td>0.384034</td>\n",
       "      <td>0.236078</td>\n",
       "      <td>0.239511</td>\n",
       "      <td>PCLRG</td>\n",
       "    </tr>\n",
       "    <tr>\n",
       "      <th>8</th>\n",
       "      <td>0.211538</td>\n",
       "      <td>0.550000</td>\n",
       "      <td>0.230769</td>\n",
       "      <td>0.450000</td>\n",
       "      <td>0.450000</td>\n",
       "      <td>0.788462</td>\n",
       "      <td>0.266146</td>\n",
       "      <td>0.298210</td>\n",
       "      <td>0.402877</td>\n",
       "      <td>0.294855</td>\n",
       "      <td>0.298210</td>\n",
       "      <td>PCLRG</td>\n",
       "    </tr>\n",
       "    <tr>\n",
       "      <th>9</th>\n",
       "      <td>0.109756</td>\n",
       "      <td>0.473684</td>\n",
       "      <td>0.146341</td>\n",
       "      <td>0.736842</td>\n",
       "      <td>0.526316</td>\n",
       "      <td>0.890244</td>\n",
       "      <td>0.168551</td>\n",
       "      <td>0.191637</td>\n",
       "      <td>0.338838</td>\n",
       "      <td>0.184599</td>\n",
       "      <td>0.191637</td>\n",
       "      <td>PCLRG</td>\n",
       "    </tr>\n",
       "    <tr>\n",
       "      <th>10</th>\n",
       "      <td>0.189655</td>\n",
       "      <td>0.687500</td>\n",
       "      <td>0.172414</td>\n",
       "      <td>0.750000</td>\n",
       "      <td>0.312500</td>\n",
       "      <td>0.810345</td>\n",
       "      <td>0.200866</td>\n",
       "      <td>0.223742</td>\n",
       "      <td>0.396442</td>\n",
       "      <td>0.215841</td>\n",
       "      <td>0.223742</td>\n",
       "      <td>PCLRG</td>\n",
       "    </tr>\n",
       "  </tbody>\n",
       "</table>\n",
       "</div>"
      ],
      "text/plain": [
       "    multi_precision  multi_recall  multi_under_segmented  \\\n",
       "0          0.136842      0.812500               0.063158   \n",
       "1          0.218182      0.600000               0.181818   \n",
       "2          0.333333      0.416667               0.300000   \n",
       "3          0.406250      0.500000               0.343750   \n",
       "4          0.160494      0.650000               0.123457   \n",
       "5          0.205128      0.727273               0.076923   \n",
       "6          0.250000      1.000000               0.187500   \n",
       "7          0.375000      1.000000               0.125000   \n",
       "8          0.159091      0.700000               0.090909   \n",
       "9          0.155844      0.705882               0.155844   \n",
       "10         0.191489      0.600000               0.127660   \n",
       "0          0.108696      0.666667               0.195652   \n",
       "1          0.183673      0.692308               0.163265   \n",
       "2          0.230769      0.750000               0.115385   \n",
       "3          0.189189      0.636364               0.162162   \n",
       "4          0.138889      0.588235               0.111111   \n",
       "5          0.280702      0.761905               0.263158   \n",
       "6          0.170732      0.500000               0.097561   \n",
       "7          0.173913      0.615385               0.195652   \n",
       "8          0.211538      0.550000               0.230769   \n",
       "9          0.109756      0.473684               0.146341   \n",
       "10         0.189655      0.687500               0.172414   \n",
       "\n",
       "    multi_over_segmented  multi_missed  multi_noise  mean_iou  mean_dice  \\\n",
       "0               0.875000      0.187500     0.863158  0.151442   0.166930   \n",
       "1               0.750000      0.400000     0.781818  0.264254   0.293718   \n",
       "2               0.500000      0.583333     0.666667  0.486908   0.552256   \n",
       "3               0.423077      0.500000     0.593750  0.547462   0.604544   \n",
       "4               0.600000      0.350000     0.839506  0.203290   0.225288   \n",
       "5               0.636364      0.272727     0.794872  0.228696   0.247720   \n",
       "6               1.000000      0.000000     0.750000  0.245167   0.248701   \n",
       "7               0.666667      0.000000     0.625000  0.357705   0.367897   \n",
       "8               0.600000      0.300000     0.840909  0.195733   0.212117   \n",
       "9               0.764706      0.294118     0.844156  0.190099   0.214057   \n",
       "10              0.800000      0.400000     0.808511  0.271537   0.305880   \n",
       "0               0.866667      0.333333     0.891304  0.133500   0.157049   \n",
       "1               0.692308      0.307692     0.816327  0.210829   0.234336   \n",
       "2               0.375000      0.250000     0.769231  0.245243   0.255431   \n",
       "3               0.545455      0.363636     0.810811  0.232995   0.258766   \n",
       "4               0.764706      0.411765     0.861111  0.169464   0.193939   \n",
       "5               0.619048      0.238095     0.719298  0.291805   0.320725   \n",
       "6               0.357143      0.500000     0.829268  0.254513   0.281986   \n",
       "7               0.615385      0.384615     0.826087  0.217460   0.239511   \n",
       "8               0.450000      0.450000     0.788462  0.266146   0.298210   \n",
       "9               0.736842      0.526316     0.890244  0.168551   0.191637   \n",
       "10              0.750000      0.312500     0.810345  0.200866   0.223742   \n",
       "\n",
       "    mean_precision  mean_recall  mean_fScore method  \n",
       "0         0.485961     0.161929     0.166930  PCLRG  \n",
       "1         0.493536     0.297876     0.293718  PCLRG  \n",
       "2         0.618816     0.608667     0.552256  PCLRG  \n",
       "3         0.633901     0.645991     0.604544  PCLRG  \n",
       "4         0.414058     0.221983     0.225288  PCLRG  \n",
       "5         0.381734     0.266924     0.247720  PCLRG  \n",
       "6         0.332311     0.245601     0.248701  PCLRG  \n",
       "7         0.414344     0.362391     0.367897  PCLRG  \n",
       "8         0.340620     0.213318     0.212117  PCLRG  \n",
       "9         0.508501     0.208027     0.214057  PCLRG  \n",
       "10        0.458782     0.300741     0.305880  PCLRG  \n",
       "0         0.589145     0.137757     0.157049  PCLRG  \n",
       "1         0.388315     0.220841     0.234336  PCLRG  \n",
       "2         0.263716     0.262316     0.255431  PCLRG  \n",
       "3         0.348159     0.239635     0.258766  PCLRG  \n",
       "4         0.329659     0.186793     0.193939  PCLRG  \n",
       "5         0.456089     0.311336     0.320725  PCLRG  \n",
       "6         0.413598     0.285071     0.281986  PCLRG  \n",
       "7         0.384034     0.236078     0.239511  PCLRG  \n",
       "8         0.402877     0.294855     0.298210  PCLRG  \n",
       "9         0.338838     0.184599     0.191637  PCLRG  \n",
       "10        0.396442     0.215841     0.223742  PCLRG  "
      ]
     },
     "execution_count": 7,
     "metadata": {},
     "output_type": "execute_result"
    }
   ],
   "source": [
    "df[df['method'] == 'PCLRG']"
   ]
  },
  {
   "cell_type": "code",
   "execution_count": 8,
   "id": "b19364e1-3a5e-4407-bd73-da6f2cb82494",
   "metadata": {
    "pycharm": {
     "name": "#%%\n"
    }
   },
   "outputs": [
    {
     "data": {
      "text/html": [
       "<div>\n",
       "<style scoped>\n",
       "    .dataframe tbody tr th:only-of-type {\n",
       "        vertical-align: middle;\n",
       "    }\n",
       "\n",
       "    .dataframe tbody tr th {\n",
       "        vertical-align: top;\n",
       "    }\n",
       "\n",
       "    .dataframe thead th {\n",
       "        text-align: right;\n",
       "    }\n",
       "</style>\n",
       "<table border=\"1\" class=\"dataframe\">\n",
       "  <thead>\n",
       "    <tr style=\"text-align: right;\">\n",
       "      <th></th>\n",
       "      <th>method</th>\n",
       "      <th>metric</th>\n",
       "      <th></th>\n",
       "    </tr>\n",
       "  </thead>\n",
       "  <tbody>\n",
       "    <tr>\n",
       "      <th>0</th>\n",
       "      <td>DDPFF</td>\n",
       "      <td>multi_precision</td>\n",
       "      <td>0.034483</td>\n",
       "    </tr>\n",
       "    <tr>\n",
       "      <th>1</th>\n",
       "      <td>DDPFF</td>\n",
       "      <td>multi_precision</td>\n",
       "      <td>0.068182</td>\n",
       "    </tr>\n",
       "    <tr>\n",
       "      <th>2</th>\n",
       "      <td>DDPFF</td>\n",
       "      <td>multi_precision</td>\n",
       "      <td>0.039216</td>\n",
       "    </tr>\n",
       "    <tr>\n",
       "      <th>3</th>\n",
       "      <td>DDPFF</td>\n",
       "      <td>multi_precision</td>\n",
       "      <td>0.051724</td>\n",
       "    </tr>\n",
       "    <tr>\n",
       "      <th>4</th>\n",
       "      <td>DDPFF</td>\n",
       "      <td>multi_precision</td>\n",
       "      <td>0.095238</td>\n",
       "    </tr>\n",
       "    <tr>\n",
       "      <th>...</th>\n",
       "      <td>...</td>\n",
       "      <td>...</td>\n",
       "      <td>...</td>\n",
       "    </tr>\n",
       "    <tr>\n",
       "      <th>1447</th>\n",
       "      <td>CAPE</td>\n",
       "      <td>mean_fScore</td>\n",
       "      <td>0.854449</td>\n",
       "    </tr>\n",
       "    <tr>\n",
       "      <th>1448</th>\n",
       "      <td>CAPE</td>\n",
       "      <td>mean_fScore</td>\n",
       "      <td>0.923795</td>\n",
       "    </tr>\n",
       "    <tr>\n",
       "      <th>1449</th>\n",
       "      <td>CAPE</td>\n",
       "      <td>mean_fScore</td>\n",
       "      <td>0.749164</td>\n",
       "    </tr>\n",
       "    <tr>\n",
       "      <th>1450</th>\n",
       "      <td>CAPE</td>\n",
       "      <td>mean_fScore</td>\n",
       "      <td>0.811921</td>\n",
       "    </tr>\n",
       "    <tr>\n",
       "      <th>1451</th>\n",
       "      <td>CAPE</td>\n",
       "      <td>mean_fScore</td>\n",
       "      <td>0.811273</td>\n",
       "    </tr>\n",
       "  </tbody>\n",
       "</table>\n",
       "<p>1452 rows × 3 columns</p>\n",
       "</div>"
      ],
      "text/plain": [
       "     method           metric          \n",
       "0     DDPFF  multi_precision  0.034483\n",
       "1     DDPFF  multi_precision  0.068182\n",
       "2     DDPFF  multi_precision  0.039216\n",
       "3     DDPFF  multi_precision  0.051724\n",
       "4     DDPFF  multi_precision  0.095238\n",
       "...     ...              ...       ...\n",
       "1447   CAPE      mean_fScore  0.854449\n",
       "1448   CAPE      mean_fScore  0.923795\n",
       "1449   CAPE      mean_fScore  0.749164\n",
       "1450   CAPE      mean_fScore  0.811921\n",
       "1451   CAPE      mean_fScore  0.811273\n",
       "\n",
       "[1452 rows x 3 columns]"
      ]
     },
     "execution_count": 8,
     "metadata": {},
     "output_type": "execute_result"
    }
   ],
   "source": [
    "df_melt"
   ]
  },
  {
   "cell_type": "code",
   "execution_count": 9,
   "id": "2f81b621-7c77-4a13-a9be-9b84a9d41506",
   "metadata": {
    "pycharm": {
     "name": "#%%\n"
    }
   },
   "outputs": [
    {
     "name": "stderr",
     "output_type": "stream",
     "text": [
      "C:\\Users\\dimaj\\AppData\\Local\\Temp/ipykernel_13772/2396299018.py:1: UserWarning: Boolean Series key will be reindexed to match DataFrame index.\n",
      "  df_melt[df_melt['method'] == 'CAPE'][df_melt['metric'] == 'mean_iou']\n"
     ]
    },
    {
     "data": {
      "text/html": [
       "<div>\n",
       "<style scoped>\n",
       "    .dataframe tbody tr th:only-of-type {\n",
       "        vertical-align: middle;\n",
       "    }\n",
       "\n",
       "    .dataframe tbody tr th {\n",
       "        vertical-align: top;\n",
       "    }\n",
       "\n",
       "    .dataframe thead th {\n",
       "        text-align: right;\n",
       "    }\n",
       "</style>\n",
       "<table border=\"1\" class=\"dataframe\">\n",
       "  <thead>\n",
       "    <tr style=\"text-align: right;\">\n",
       "      <th></th>\n",
       "      <th>method</th>\n",
       "      <th>metric</th>\n",
       "      <th></th>\n",
       "    </tr>\n",
       "  </thead>\n",
       "  <tbody>\n",
       "    <tr>\n",
       "      <th>847</th>\n",
       "      <td>CAPE</td>\n",
       "      <td>mean_iou</td>\n",
       "      <td>0.592775</td>\n",
       "    </tr>\n",
       "    <tr>\n",
       "      <th>848</th>\n",
       "      <td>CAPE</td>\n",
       "      <td>mean_iou</td>\n",
       "      <td>0.515158</td>\n",
       "    </tr>\n",
       "    <tr>\n",
       "      <th>849</th>\n",
       "      <td>CAPE</td>\n",
       "      <td>mean_iou</td>\n",
       "      <td>0.593395</td>\n",
       "    </tr>\n",
       "    <tr>\n",
       "      <th>850</th>\n",
       "      <td>CAPE</td>\n",
       "      <td>mean_iou</td>\n",
       "      <td>0.678658</td>\n",
       "    </tr>\n",
       "    <tr>\n",
       "      <th>851</th>\n",
       "      <td>CAPE</td>\n",
       "      <td>mean_iou</td>\n",
       "      <td>0.654970</td>\n",
       "    </tr>\n",
       "    <tr>\n",
       "      <th>852</th>\n",
       "      <td>CAPE</td>\n",
       "      <td>mean_iou</td>\n",
       "      <td>0.765221</td>\n",
       "    </tr>\n",
       "    <tr>\n",
       "      <th>853</th>\n",
       "      <td>CAPE</td>\n",
       "      <td>mean_iou</td>\n",
       "      <td>0.545739</td>\n",
       "    </tr>\n",
       "    <tr>\n",
       "      <th>854</th>\n",
       "      <td>CAPE</td>\n",
       "      <td>mean_iou</td>\n",
       "      <td>0.674442</td>\n",
       "    </tr>\n",
       "    <tr>\n",
       "      <th>855</th>\n",
       "      <td>CAPE</td>\n",
       "      <td>mean_iou</td>\n",
       "      <td>0.792619</td>\n",
       "    </tr>\n",
       "    <tr>\n",
       "      <th>856</th>\n",
       "      <td>CAPE</td>\n",
       "      <td>mean_iou</td>\n",
       "      <td>0.671130</td>\n",
       "    </tr>\n",
       "    <tr>\n",
       "      <th>857</th>\n",
       "      <td>CAPE</td>\n",
       "      <td>mean_iou</td>\n",
       "      <td>0.546161</td>\n",
       "    </tr>\n",
       "    <tr>\n",
       "      <th>913</th>\n",
       "      <td>CAPE</td>\n",
       "      <td>mean_iou</td>\n",
       "      <td>0.591872</td>\n",
       "    </tr>\n",
       "    <tr>\n",
       "      <th>914</th>\n",
       "      <td>CAPE</td>\n",
       "      <td>mean_iou</td>\n",
       "      <td>0.801265</td>\n",
       "    </tr>\n",
       "    <tr>\n",
       "      <th>915</th>\n",
       "      <td>CAPE</td>\n",
       "      <td>mean_iou</td>\n",
       "      <td>0.726434</td>\n",
       "    </tr>\n",
       "    <tr>\n",
       "      <th>916</th>\n",
       "      <td>CAPE</td>\n",
       "      <td>mean_iou</td>\n",
       "      <td>0.677297</td>\n",
       "    </tr>\n",
       "    <tr>\n",
       "      <th>917</th>\n",
       "      <td>CAPE</td>\n",
       "      <td>mean_iou</td>\n",
       "      <td>0.715589</td>\n",
       "    </tr>\n",
       "    <tr>\n",
       "      <th>918</th>\n",
       "      <td>CAPE</td>\n",
       "      <td>mean_iou</td>\n",
       "      <td>0.557860</td>\n",
       "    </tr>\n",
       "    <tr>\n",
       "      <th>919</th>\n",
       "      <td>CAPE</td>\n",
       "      <td>mean_iou</td>\n",
       "      <td>0.763719</td>\n",
       "    </tr>\n",
       "    <tr>\n",
       "      <th>920</th>\n",
       "      <td>CAPE</td>\n",
       "      <td>mean_iou</td>\n",
       "      <td>0.863399</td>\n",
       "    </tr>\n",
       "    <tr>\n",
       "      <th>921</th>\n",
       "      <td>CAPE</td>\n",
       "      <td>mean_iou</td>\n",
       "      <td>0.641532</td>\n",
       "    </tr>\n",
       "    <tr>\n",
       "      <th>922</th>\n",
       "      <td>CAPE</td>\n",
       "      <td>mean_iou</td>\n",
       "      <td>0.740484</td>\n",
       "    </tr>\n",
       "    <tr>\n",
       "      <th>923</th>\n",
       "      <td>CAPE</td>\n",
       "      <td>mean_iou</td>\n",
       "      <td>0.700226</td>\n",
       "    </tr>\n",
       "  </tbody>\n",
       "</table>\n",
       "</div>"
      ],
      "text/plain": [
       "    method    metric          \n",
       "847   CAPE  mean_iou  0.592775\n",
       "848   CAPE  mean_iou  0.515158\n",
       "849   CAPE  mean_iou  0.593395\n",
       "850   CAPE  mean_iou  0.678658\n",
       "851   CAPE  mean_iou  0.654970\n",
       "852   CAPE  mean_iou  0.765221\n",
       "853   CAPE  mean_iou  0.545739\n",
       "854   CAPE  mean_iou  0.674442\n",
       "855   CAPE  mean_iou  0.792619\n",
       "856   CAPE  mean_iou  0.671130\n",
       "857   CAPE  mean_iou  0.546161\n",
       "913   CAPE  mean_iou  0.591872\n",
       "914   CAPE  mean_iou  0.801265\n",
       "915   CAPE  mean_iou  0.726434\n",
       "916   CAPE  mean_iou  0.677297\n",
       "917   CAPE  mean_iou  0.715589\n",
       "918   CAPE  mean_iou  0.557860\n",
       "919   CAPE  mean_iou  0.763719\n",
       "920   CAPE  mean_iou  0.863399\n",
       "921   CAPE  mean_iou  0.641532\n",
       "922   CAPE  mean_iou  0.740484\n",
       "923   CAPE  mean_iou  0.700226"
      ]
     },
     "execution_count": 9,
     "metadata": {},
     "output_type": "execute_result"
    }
   ],
   "source": [
    "df_melt[df_melt['method'] == 'CAPE'][df_melt['metric'] == 'mean_iou']"
   ]
  },
  {
   "cell_type": "code",
   "execution_count": 10,
   "id": "fb41d5aa-6e79-4782-ac13-b28ae031d5d5",
   "metadata": {
    "pycharm": {
     "name": "#%%\n"
    }
   },
   "outputs": [
    {
     "name": "stderr",
     "output_type": "stream",
     "text": [
      "C:\\Users\\dimaj\\Documents\\Github\\PlaneDetector\\venv\\lib\\site-packages\\seaborn\\categorical.py:3717: UserWarning: The `factorplot` function has been renamed to `catplot`. The original name will be removed in a future release. Please update your code. Note that the default `kind` in `factorplot` (`'point'`) has changed `'strip'` in `catplot`.\n",
      "  warnings.warn(msg)\n"
     ]
    },
    {
     "data": {
      "text/plain": [
       "<Figure size 720x432 with 0 Axes>"
      ]
     },
     "metadata": {},
     "output_type": "display_data"
    },
    {
     "data": {
      "image/png": "[encoded data removed]",
      "text/plain": [
       "<Figure size 360x360 with 1 Axes>"
      ]
     },
     "metadata": {
      "needs_background": "light"
     },
     "output_type": "display_data"
    }
   ],
   "source": [
    "import matplotlib.pyplot as plt\n",
    "\n",
    "import seaborn as sns\n",
    "plt.figure(figsize=(10, 6))\n",
    "sns.factorplot(x='metric', y='', hue='method', data=df_melt[df_melt['metric'] == 'mean_recall'], kind='box', showfliers = False, legend=False)\n",
    "g = plt.gca()\n",
    "g.axes.get_xaxis().set_visible(False)\n",
    "g.axes.get_yaxis()\n",
    "g.legend()\n",
    "g.set_title('Recall (points)', fontsize=20)\n",
    "plt.gca().get_legend().remove()\n",
    "plt.savefig('tum_mean_recall.pdf')\n",
    "# plt.semilogy()"
   ]
  },
  {
   "cell_type": "code",
   "execution_count": 11,
   "id": "9061a0fc-fb76-4cc0-b60a-9c2843a7a918",
   "metadata": {
    "pycharm": {
     "name": "#%%\n"
    }
   },
   "outputs": [
    {
     "name": "stderr",
     "output_type": "stream",
     "text": [
      "C:\\Users\\dimaj\\Documents\\Github\\PlaneDetector\\venv\\lib\\site-packages\\seaborn\\categorical.py:3717: UserWarning: The `factorplot` function has been renamed to `catplot`. The original name will be removed in a future release. Please update your code. Note that the default `kind` in `factorplot` (`'point'`) has changed `'strip'` in `catplot`.\n",
      "  warnings.warn(msg)\n"
     ]
    },
    {
     "data": {
      "text/plain": [
       "<Figure size 720x432 with 0 Axes>"
      ]
     },
     "metadata": {},
     "output_type": "display_data"
    },
    {
     "data": {
      "image/png": "[encoded data removed]",
      "text/plain": [
       "<Figure size 360x360 with 1 Axes>"
      ]
     },
     "metadata": {
      "needs_background": "light"
     },
     "output_type": "display_data"
    }
   ],
   "source": [
    "import seaborn as sns\n",
    "plt.figure(figsize=(10, 6))\n",
    "sns.factorplot(x='metric', y='', hue='method', data=df_melt[df_melt['metric'] == 'mean_dice'], kind='box', showfliers = False, legend=False)\n",
    "g = plt.gca()\n",
    "g.axes.get_xaxis().set_visible(False)\n",
    "g.axes.get_yaxis()\n",
    "g.legend()\n",
    "g.set_title('DICE (points)', fontsize=20)\n",
    "plt.gca().get_legend().remove()\n",
    "plt.savefig('tum_mean_dice.pdf')"
   ]
  },
  {
   "cell_type": "code",
   "execution_count": null,
   "id": "2c234bf3-f83e-4fa9-9946-fea70d0238a0",
   "metadata": {
    "pycharm": {
     "name": "#%%\n"
    }
   },
   "outputs": [],
   "source": []
  },
  {
   "cell_type": "code",
   "execution_count": 12,
   "id": "62734593-af5a-4fd3-91af-0f6a593903f3",
   "metadata": {
    "pycharm": {
     "name": "#%%\n"
    }
   },
   "outputs": [
    {
     "name": "stderr",
     "output_type": "stream",
     "text": [
      "C:\\Users\\dimaj\\Documents\\Github\\PlaneDetector\\venv\\lib\\site-packages\\seaborn\\categorical.py:3717: UserWarning: The `factorplot` function has been renamed to `catplot`. The original name will be removed in a future release. Please update your code. Note that the default `kind` in `factorplot` (`'point'`) has changed `'strip'` in `catplot`.\n",
      "  warnings.warn(msg)\n"
     ]
    },
    {
     "data": {
      "text/plain": [
       "<Figure size 720x432 with 0 Axes>"
      ]
     },
     "metadata": {},
     "output_type": "display_data"
    },
    {
     "data": {
      "image/png": "[encoded data removed]",
      "text/plain": [
       "<Figure size 360x360 with 1 Axes>"
      ]
     },
     "metadata": {
      "needs_background": "light"
     },
     "output_type": "display_data"
    }
   ],
   "source": [
    "import seaborn as sns\n",
    "plt.figure(figsize=(10, 6))\n",
    "sns.factorplot(x='metric', y='', hue='method', data=df_melt[df_melt['metric'] == 'mean_iou'], kind='box', showfliers = False, legend=False)\n",
    "g = plt.gca()\n",
    "g.axes.get_xaxis().set_visible(False)\n",
    "g.axes.get_yaxis()\n",
    "g.legend()\n",
    "g.set_title('IoU (points)', fontsize=20)\n",
    "plt.gca().get_legend().remove()\n",
    "plt.savefig('tum_mean_iou.pdf')"
   ]
  },
  {
   "cell_type": "code",
   "execution_count": 13,
   "id": "7785a3b8-eab0-4a7a-b57f-4703c3d34692",
   "metadata": {
    "pycharm": {
     "name": "#%%\n"
    }
   },
   "outputs": [
    {
     "name": "stderr",
     "output_type": "stream",
     "text": [
      "C:\\Users\\dimaj\\Documents\\Github\\PlaneDetector\\venv\\lib\\site-packages\\seaborn\\categorical.py:3717: UserWarning: The `factorplot` function has been renamed to `catplot`. The original name will be removed in a future release. Please update your code. Note that the default `kind` in `factorplot` (`'point'`) has changed `'strip'` in `catplot`.\n",
      "  warnings.warn(msg)\n"
     ]
    },
    {
     "data": {
      "text/plain": [
       "<Figure size 720x432 with 0 Axes>"
      ]
     },
     "metadata": {},
     "output_type": "display_data"
    },
    {
     "data": {
      "image/png": "[encoded data removed]",
      "text/plain": [
       "<Figure size 360x360 with 1 Axes>"
      ]
     },
     "metadata": {
      "needs_background": "light"
     },
     "output_type": "display_data"
    }
   ],
   "source": [
    "import seaborn as sns\n",
    "plt.figure(figsize=(10, 6))\n",
    "sns.factorplot(x='metric', y='', hue='method', data=df_melt[df_melt['metric'] == 'mean_fScore'], kind='box', showfliers = False, legend=False)\n",
    "g = plt.gca()\n",
    "g.axes.get_xaxis().set_visible(False)\n",
    "g.axes.get_yaxis()\n",
    "g.legend()\n",
    "g.set_title('F-score (points)', fontsize=20)\n",
    "plt.gca().get_legend().remove()\n",
    "plt.savefig('tum_mean_fscore.pdf')"
   ]
  },
  {
   "cell_type": "code",
   "execution_count": 14,
   "id": "5d427969-fba9-4406-ae70-0c8926e2c7af",
   "metadata": {
    "pycharm": {
     "name": "#%%\n"
    }
   },
   "outputs": [
    {
     "name": "stderr",
     "output_type": "stream",
     "text": [
      "C:\\Users\\dimaj\\Documents\\Github\\PlaneDetector\\venv\\lib\\site-packages\\seaborn\\categorical.py:3717: UserWarning: The `factorplot` function has been renamed to `catplot`. The original name will be removed in a future release. Please update your code. Note that the default `kind` in `factorplot` (`'point'`) has changed `'strip'` in `catplot`.\n",
      "  warnings.warn(msg)\n"
     ]
    },
    {
     "data": {
      "text/plain": [
       "<Figure size 720x432 with 0 Axes>"
      ]
     },
     "metadata": {},
     "output_type": "display_data"
    },
    {
     "data": {
      "image/png": "[encoded data removed]",
      "text/plain": [
       "<Figure size 360x360 with 1 Axes>"
      ]
     },
     "metadata": {
      "needs_background": "light"
     },
     "output_type": "display_data"
    }
   ],
   "source": [
    "import seaborn as sns\n",
    "plt.figure(figsize=(10, 6))\n",
    "sns.factorplot(x='metric', y='', hue='method', data=df_melt[df_melt['metric'] == 'mean_precision'], kind='box', showfliers = False, legend=False)\n",
    "g = plt.gca()\n",
    "g.axes.get_xaxis().set_visible(False)\n",
    "g.axes.get_yaxis()\n",
    "g.legend()\n",
    "g.set_title('Precision (points)', fontsize=20)\n",
    "plt.gca().get_legend().remove()\n",
    "plt.savefig('tum_mean_precision.pdf')"
   ]
  },
  {
   "cell_type": "code",
   "execution_count": 15,
   "id": "2b9fa621-4b35-4bd8-997c-484bface76d0",
   "metadata": {
    "pycharm": {
     "name": "#%%\n"
    }
   },
   "outputs": [
    {
     "name": "stderr",
     "output_type": "stream",
     "text": [
      "C:\\Users\\dimaj\\Documents\\Github\\PlaneDetector\\venv\\lib\\site-packages\\seaborn\\categorical.py:3717: UserWarning: The `factorplot` function has been renamed to `catplot`. The original name will be removed in a future release. Please update your code. Note that the default `kind` in `factorplot` (`'point'`) has changed `'strip'` in `catplot`.\n",
      "  warnings.warn(msg)\n"
     ]
    },
    {
     "data": {
      "text/plain": [
       "<Figure size 720x432 with 0 Axes>"
      ]
     },
     "metadata": {},
     "output_type": "display_data"
    },
    {
     "data": {
      "image/png": "[encoded data removed]",
      "text/plain": [
       "<Figure size 360x360 with 1 Axes>"
      ]
     },
     "metadata": {
      "needs_background": "light"
     },
     "output_type": "display_data"
    }
   ],
   "source": [
    "import seaborn as sns\n",
    "plt.figure(figsize=(10, 6))\n",
    "sns.factorplot(x='metric', y='', hue='method', data=df_melt[df_melt['metric'] == 'multi_precision'], kind='box', showfliers = False, legend=False)\n",
    "g = plt.gca()\n",
    "g.axes.get_xaxis().set_visible(False)\n",
    "g.axes.get_yaxis()\n",
    "g.legend()\n",
    "g.set_title('Precision (planes)', fontsize=20)\n",
    "plt.gca().get_legend().remove()\n",
    "plt.savefig('tum_multi_precision.pdf')"
   ]
  },
  {
   "cell_type": "code",
   "execution_count": 16,
   "id": "a105c273-014a-45d5-8d5d-9af5522d4e39",
   "metadata": {
    "pycharm": {
     "name": "#%%\n"
    }
   },
   "outputs": [
    {
     "name": "stderr",
     "output_type": "stream",
     "text": [
      "C:\\Users\\dimaj\\Documents\\Github\\PlaneDetector\\venv\\lib\\site-packages\\seaborn\\categorical.py:3717: UserWarning: The `factorplot` function has been renamed to `catplot`. The original name will be removed in a future release. Please update your code. Note that the default `kind` in `factorplot` (`'point'`) has changed `'strip'` in `catplot`.\n",
      "  warnings.warn(msg)\n"
     ]
    },
    {
     "data": {
      "text/plain": [
       "<Figure size 720x432 with 0 Axes>"
      ]
     },
     "metadata": {},
     "output_type": "display_data"
    },
    {
     "data": {
      "image/png": "[encoded data removed]",
      "text/plain": [
       "<Figure size 360x360 with 1 Axes>"
      ]
     },
     "metadata": {
      "needs_background": "light"
     },
     "output_type": "display_data"
    }
   ],
   "source": [
    "import seaborn as sns\n",
    "plt.figure(figsize=(10, 6))\n",
    "sns.factorplot(x='metric', y='', hue='method', data=df_melt[df_melt['metric'] == 'multi_recall'], kind='box', showfliers = False, legend=False)\n",
    "g = plt.gca()\n",
    "g.axes.get_xaxis().set_visible(False)\n",
    "g.axes.get_yaxis()\n",
    "g.legend()\n",
    "g.set_title('Recall (planes)', fontsize=20)\n",
    "plt.gca().get_legend().remove()\n",
    "plt.savefig('tum_multi_recall.pdf')"
   ]
  },
  {
   "cell_type": "code",
   "execution_count": 17,
   "id": "08a276b9-5e6f-4d95-a5d5-df967a065eb1",
   "metadata": {
    "pycharm": {
     "name": "#%%\n"
    }
   },
   "outputs": [
    {
     "name": "stderr",
     "output_type": "stream",
     "text": [
      "C:\\Users\\dimaj\\Documents\\Github\\PlaneDetector\\venv\\lib\\site-packages\\seaborn\\categorical.py:3717: UserWarning: The `factorplot` function has been renamed to `catplot`. The original name will be removed in a future release. Please update your code. Note that the default `kind` in `factorplot` (`'point'`) has changed `'strip'` in `catplot`.\n",
      "  warnings.warn(msg)\n"
     ]
    },
    {
     "data": {
      "text/plain": [
       "<Figure size 720x432 with 0 Axes>"
      ]
     },
     "metadata": {},
     "output_type": "display_data"
    },
    {
     "data": {
      "image/png": "[encoded data removed]",
      "text/plain": [
       "<Figure size 360x360 with 1 Axes>"
      ]
     },
     "metadata": {
      "needs_background": "light"
     },
     "output_type": "display_data"
    }
   ],
   "source": [
    "import seaborn as sns\n",
    "plt.figure(figsize=(10, 6))\n",
    "sns.factorplot(x='metric', y='', hue='method', data=df_melt[df_melt['metric'] == 'multi_under_segmented'], kind='box', showfliers = False, legend=False)\n",
    "g = plt.gca()\n",
    "g.axes.get_xaxis().set_visible(False)\n",
    "g.axes.get_yaxis()\n",
    "g.legend()\n",
    "g.set_title('USR (planes)', fontsize=20)\n",
    "plt.gca().get_legend().remove()\n",
    "plt.savefig('tum_multi_usr.pdf')"
   ]
  },
  {
   "cell_type": "code",
   "execution_count": 18,
   "id": "61a8f511-391f-423c-8cc1-cf24c0ffe59b",
   "metadata": {
    "pycharm": {
     "name": "#%%\n"
    }
   },
   "outputs": [
    {
     "name": "stderr",
     "output_type": "stream",
     "text": [
      "C:\\Users\\dimaj\\Documents\\Github\\PlaneDetector\\venv\\lib\\site-packages\\seaborn\\categorical.py:3717: UserWarning: The `factorplot` function has been renamed to `catplot`. The original name will be removed in a future release. Please update your code. Note that the default `kind` in `factorplot` (`'point'`) has changed `'strip'` in `catplot`.\n",
      "  warnings.warn(msg)\n"
     ]
    },
    {
     "data": {
      "text/plain": [
       "<Figure size 720x432 with 0 Axes>"
      ]
     },
     "metadata": {},
     "output_type": "display_data"
    },
    {
     "data": {
      "image/png": "[encoded data removed]",
      "text/plain": [
       "<Figure size 360x360 with 1 Axes>"
      ]
     },
     "metadata": {
      "needs_background": "light"
     },
     "output_type": "display_data"
    }
   ],
   "source": [
    "import seaborn as sns\n",
    "plt.figure(figsize=(10, 6))\n",
    "sns.factorplot(x='metric', y='', hue='method', data=df_melt[df_melt['metric'] == 'multi_over_segmented'], kind='box', showfliers = False, legend=False)\n",
    "g = plt.gca()\n",
    "g.axes.get_xaxis().set_visible(False)\n",
    "g.axes.get_yaxis()\n",
    "g.legend()\n",
    "g.set_title('OSR (planes)', fontsize=20)\n",
    "plt.gca().get_legend().remove()\n",
    "plt.savefig('tum_multi_osr.pdf')"
   ]
  },
  {
   "cell_type": "code",
   "execution_count": 19,
   "id": "c58f316d-5d50-4444-8f23-5c7178ed309e",
   "metadata": {
    "pycharm": {
     "name": "#%%\n"
    }
   },
   "outputs": [
    {
     "name": "stderr",
     "output_type": "stream",
     "text": [
      "C:\\Users\\dimaj\\Documents\\Github\\PlaneDetector\\venv\\lib\\site-packages\\seaborn\\categorical.py:3717: UserWarning: The `factorplot` function has been renamed to `catplot`. The original name will be removed in a future release. Please update your code. Note that the default `kind` in `factorplot` (`'point'`) has changed `'strip'` in `catplot`.\n",
      "  warnings.warn(msg)\n"
     ]
    },
    {
     "data": {
      "text/plain": [
       "<Figure size 720x432 with 0 Axes>"
      ]
     },
     "metadata": {},
     "output_type": "display_data"
    },
    {
     "data": {
      "image/png": "[encoded data removed]",
      "text/plain": [
       "<Figure size 360x360 with 1 Axes>"
      ]
     },
     "metadata": {
      "needs_background": "light"
     },
     "output_type": "display_data"
    }
   ],
   "source": [
    "import seaborn as sns\n",
    "plt.figure(figsize=(10, 6))\n",
    "sns.factorplot(x='metric', y='', hue='method', data=df_melt[df_melt['metric'] == 'multi_noise'], kind='box', showfliers = False, legend=False)\n",
    "g = plt.gca()\n",
    "g.axes.get_xaxis().set_visible(False)\n",
    "g.axes.get_yaxis()\n",
    "g.legend()\n",
    "g.set_title('Noise (planes)', fontsize=20)\n",
    "plt.gca().get_legend().remove()\n",
    "plt.savefig('tum_multi_noise.pdf')"
   ]
  },
  {
   "cell_type": "code",
   "execution_count": 20,
   "id": "f2c4c49c-0850-48db-98a1-9b0d063187c9",
   "metadata": {
    "pycharm": {
     "name": "#%%\n"
    }
   },
   "outputs": [
    {
     "name": "stderr",
     "output_type": "stream",
     "text": [
      "C:\\Users\\dimaj\\Documents\\Github\\PlaneDetector\\venv\\lib\\site-packages\\seaborn\\categorical.py:3717: UserWarning: The `factorplot` function has been renamed to `catplot`. The original name will be removed in a future release. Please update your code. Note that the default `kind` in `factorplot` (`'point'`) has changed `'strip'` in `catplot`.\n",
      "  warnings.warn(msg)\n"
     ]
    },
    {
     "data": {
      "text/plain": [
       "<Figure size 720x432 with 0 Axes>"
      ]
     },
     "metadata": {},
     "output_type": "display_data"
    },
    {
     "data": {
      "image/png": "[encoded data removed]",
      "text/plain": [
       "<Figure size 360x360 with 1 Axes>"
      ]
     },
     "metadata": {
      "needs_background": "light"
     },
     "output_type": "display_data"
    }
   ],
   "source": [
    "import seaborn as sns\n",
    "plt.figure(figsize=(10, 6))\n",
    "sns.factorplot(x='metric', y='', hue='method', data=df_melt[df_melt['metric'] == 'multi_missed'], kind='box', showfliers = False, legend=False)\n",
    "g = plt.gca()\n",
    "g.axes.get_xaxis().set_visible(False)\n",
    "g.axes.get_yaxis()\n",
    "g.legend()\n",
    "g.set_title('Missed (planes)', fontsize=20)\n",
    "plt.gca().get_legend().remove()\n",
    "plt.savefig('tum_multi_missed.pdf')"
   ]
  },
  {
   "cell_type": "code",
   "execution_count": null,
   "id": "07351925-d770-4760-8f94-216d70e75761",
   "metadata": {
    "pycharm": {
     "name": "#%%\n"
    }
   },
   "outputs": [],
   "source": []
  },
  {
   "cell_type": "code",
   "execution_count": null,
   "id": "26f0c264-0a57-41f2-8698-f7fd539abe64",
   "metadata": {
    "pycharm": {
     "name": "#%%\n"
    }
   },
   "outputs": [],
   "source": []
  },
  {
   "cell_type": "code",
   "execution_count": null,
   "id": "570bd5ab",
   "metadata": {
    "pycharm": {
     "name": "#%%\n"
    }
   },
   "outputs": [],
   "source": []
  }
 ],
 "metadata": {
  "kernelspec": {
   "display_name": "Python 3 (ipykernel)",
   "language": "python",
   "name": "python3"
  },
  "language_info": {
   "codemirror_mode": {
    "name": "ipython",
    "version": 3
   },
   "file_extension": ".py",
   "mimetype": "text/x-python",
   "name": "python",
   "nbconvert_exporter": "python",
   "pygments_lexer": "ipython3",
   "version": "3.8.6"
  }
 },
 "nbformat": 4,
 "nbformat_minor": 5
}